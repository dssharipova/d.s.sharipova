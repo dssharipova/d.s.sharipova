{
 "cells": [
  {
   "cell_type": "markdown",
   "metadata": {},
   "source": [
    "Представьте, что вы работаете в крупном дейтинговом приложении.\n",
    "\n",
    "Помимо базовых функций, в приложении также имеется премиум-подписка, которая дает доступ к ряду важных дополнительных возможностей. Был проведен A/B тест, в рамках которого для новых пользователей из нескольких стран была изменена стоимость премиум-подписки* при покупке через две новые платежные системы. При этом стоимость пробного периода оставалась прежней.\n",
    "\n",
    "Проверьте:\n",
    "\n",
    "Был ли эксперимент успешен в целом.\n",
    "Проанализируйте, имеет ли нововведение смысл среди каких-либо конкретных групп пользователей.\n",
    "*Деньги за подписку списываются ежемесячно до тех пор, пока пользователь её не отменит.\n",
    "\n",
    "  \n",
    "\n",
    "Данные\n",
    "Всего есть три группы: тестовая (test), контрольная 1 (control_1) и контрольная 2 (control_2). Для каждой из них:\n",
    "\n",
    "users_*.csv – информация о пользователях:\n",
    "\n",
    "uid – идентификатор пользователя\n",
    "age – возраст\n",
    "attraction_coeff – коэффициент привлекательности (от 0 до 1000, \\frac{лайки}{просмотры}*1000 \n",
    "просмотры\n",
    "лайки\n",
    "\n",
    " ∗1000)\n",
    "coins – число монеток (внутренняя валюта)\n",
    "country – страна  \n",
    "visit_days – в какие дни после регистрации пользователь посещал приложение (напр. в 1, затем в 7)\n",
    "gender – пол\n",
    "age_filter_start  – фильтр поиска, мин. значение \n",
    "age_filter_end  – фильтр поиска, макс. значение \n",
    "views_count – число полученных оценок \n",
    "was_premium – был ли когда-либо премиум (либо пробный период премиум-статуса, либо купленный за деньги)\n",
    "is_premium –  является ли премиум\n",
    "total_revenue – нормированная выручка\n",
    " \n",
    "transactions_*.csv – информация о платежах пользователей:\n",
    "\n",
    "uid – идентификатор пользователя\n",
    "country – страна\n",
    "joined_at – дата и время регистрации\n",
    "paid_at – дата и время покупки\n",
    "revenue – нормированная выручка\n",
    "payment_id – идентификатор платежа\n",
    "from_page – откуда пользователь перешел на страницу оплаты\n",
    "product_type – тип продукта (trial_premium – пробная премиум-подписка, premium_no_trial – премиум-подписка без пробной, coins – подписка за внутреннюю валюту, other_type – другое)\n",
    " \n",
    "Файлы:\n",
    "\n",
    "users_test – информация о пользователях в тестовой группе. \n",
    "users_control_1 – информация о пользователях в первой контрольной группе. \n",
    "users_control_2 – информация о пользователях во второй контрольной группе . \n",
    "transactions_test – информация о платежах пользователей в тестовой группе. \n",
    "transactions_control_1 – информация о платежах пользователей в первой контрольной группе. \n",
    "transactions_control_2 – информация о платежах пользователей во второй контрольной группе "
   ]
  },
  {
   "cell_type": "code",
   "execution_count": null,
   "metadata": {},
   "outputs": [],
   "source": [
    "import pandas as pd\n",
    "import numpy as np\n",
    "import matplotlib.pyplot as plt\n",
    "import requests\n",
    "import json\n",
    "from scipy import stats\n",
    "%matplotlib inline\n",
    "\n",
    "from urllib.parse import urlencode"
   ]
  },
  {
   "cell_type": "code",
   "execution_count": 2,
   "metadata": {},
   "outputs": [],
   "source": [
    "base_url = 'https://cloud-api.yandex.net/v1/disk/public/resources/download?'\n",
    "\n",
    "users_test_link = 'https://disk.yandex.ru/d/L8HxRYDn2l4h9A'\n",
    "users_control_1_link = 'https://disk.yandex.ru/d/TxOD_JxnkMd4mA'\n",
    "users_control_2_link = 'https://disk.yandex.ru/d/YT6OWRK2cTWfLg'\n",
    "transactions_test_link = 'https://disk.yandex.ru/d/3viYBnm7cyihkQ'\n",
    "transactions_control_1_link = 'https://disk.yandex.ru/d/84jzzJeQ4tqVyg'\n",
    "transactions_control_2_link = 'https://disk.yandex.ru/d/_pOo7mrDCZZMyA'\n",
    "\n",
    "\n",
    "users_test_response = requests.get(base_url + urlencode({'public_key': users_test_link}))\n",
    "users_control_1_response = requests.get(base_url + urlencode({'public_key': users_control_1_link}))\n",
    "users_control_2_response = requests.get(base_url + urlencode({'public_key': users_control_2_link}))\n",
    "transactions_test_response = requests.get(base_url + urlencode({'public_key': transactions_test_link}))\n",
    "transactions_control_1_response = requests.get(base_url + urlencode({'public_key': transactions_control_1_link}))\n",
    "transactions_control_2_response = requests.get(base_url + urlencode({'public_key': transactions_control_2_link}))\n",
    "\n",
    "users_test_file_link = json.loads(users_test_response.text)['href']\n",
    "users_control_1_file_link = json.loads(users_control_1_response.text)['href']\n",
    "users_control_2_file_link = json.loads(users_control_2_response.text)['href']\n",
    "transactions_test_file_link = json.loads(transactions_test_response.text)['href']\n",
    "transactions_control_1_file_link = json.loads(transactions_control_1_response.text)['href']\n",
    "transactions_control_2_file_link = json.loads(transactions_control_2_response.text)['href']\n",
    "\n",
    "users_test = pd.read_csv(users_test_file_link, encoding='windows-1251', sep=';')\n",
    "users_control_1 = pd.read_csv(users_control_1_file_link, encoding='windows-1251', sep=';')\n",
    "users_control_2 = pd.read_csv(users_control_2_file_link, encoding='windows-1251', sep=';')\n",
    "tr_test = pd.read_csv(transactions_test_file_link, encoding='windows-1251', sep=';')\n",
    "tr_control_1 = pd.read_csv(transactions_control_1_file_link, encoding='windows-1251', sep=';')\n",
    "tr_control_2 = pd.read_csv(transactions_control_2_file_link, encoding='windows-1251', sep=';')"
   ]
  },
  {
   "cell_type": "code",
   "execution_count": 3,
   "metadata": {},
   "outputs": [],
   "source": [
    "users_test = pd.read_csv(users_test_file_link, encoding='windows-1251', sep=';')\n",
    "users_control_1 = pd.read_csv(users_control_1_file_link, encoding='windows-1251', sep=';')\n",
    "users_control_2 = pd.read_csv(users_control_2_file_link, encoding='windows-1251', sep=';')\n",
    "tr_test = pd.read_csv(transactions_test_file_link, encoding='windows-1251', sep=';')\n",
    "tr_control_1 = pd.read_csv(transactions_control_1_file_link, encoding='windows-1251', sep=';')\n",
    "tr_control_2 = pd.read_csv(transactions_control_2_file_link, encoding='windows-1251', sep=';')"
   ]
  },
  {
   "cell_type": "markdown",
   "metadata": {},
   "source": [
    "### Взглянем на данные\n",
    "*Users:*\n",
    "* `uid` - id\n",
    "* `age` - возраст\n",
    "* `attraction_coeff` - коеф привлекательности (0-1000)\n",
    "* `coins` - внутренняя валюта\n",
    "* `country` - страна\n",
    "* `visit_days` - в какие дни были посещения после регистрации\n",
    "* `gender` - пол\n",
    "* `age_filter_start` - фильтр поиска\n",
    "* `age_filter_end` - фильтр поиска\n",
    "* `views_count` - число полученных оценок\n",
    "* `was_premium` - был ли когда-то премиум\n",
    "* `is_premium` - есть ли сейчас преиум\n",
    "* `total_revenue` - нормированная выручка\n",
    "\n",
    "\n",
    "*Transactions:*\n",
    "* `uid` - id\n",
    "* `country` - страна\n",
    "* `joined_at` - дата и время регистрации \n",
    "* `paid_id` - дата и время покупки\n",
    "* `payment_id` - идентификатор платежа\n",
    "* `from_page` - откуда пользователь перешел на страницу оплаты\n",
    "* `product_type` - тип продукта\n",
    "* `revenue` - нормированная выручка"
   ]
  },
  {
   "cell_type": "code",
   "execution_count": 4,
   "metadata": {},
   "outputs": [
    {
     "data": {
      "text/html": [
       "<div>\n",
       "<style scoped>\n",
       "    .dataframe tbody tr th:only-of-type {\n",
       "        vertical-align: middle;\n",
       "    }\n",
       "\n",
       "    .dataframe tbody tr th {\n",
       "        vertical-align: top;\n",
       "    }\n",
       "\n",
       "    .dataframe thead th {\n",
       "        text-align: right;\n",
       "    }\n",
       "</style>\n",
       "<table border=\"1\" class=\"dataframe\">\n",
       "  <thead>\n",
       "    <tr style=\"text-align: right;\">\n",
       "      <th></th>\n",
       "      <th>uid</th>\n",
       "      <th>country</th>\n",
       "      <th>joined_at</th>\n",
       "      <th>paid_at</th>\n",
       "      <th>revenue</th>\n",
       "      <th>payment_id</th>\n",
       "      <th>from_page</th>\n",
       "      <th>product_type</th>\n",
       "    </tr>\n",
       "  </thead>\n",
       "  <tbody>\n",
       "    <tr>\n",
       "      <th>0</th>\n",
       "      <td>891319275.0</td>\n",
       "      <td>France</td>\n",
       "      <td>2017-05-11 19:57:00</td>\n",
       "      <td>2017-12-11 21:57:00</td>\n",
       "      <td>12727.0</td>\n",
       "      <td>147.0</td>\n",
       "      <td>trial_vip_popup</td>\n",
       "      <td>trial_premium</td>\n",
       "    </tr>\n",
       "    <tr>\n",
       "      <th>1</th>\n",
       "      <td>892421826.0</td>\n",
       "      <td>Israel</td>\n",
       "      <td>2017-10-14 12:46:00</td>\n",
       "      <td>2017-10-23 12:54:00</td>\n",
       "      <td>14586.0</td>\n",
       "      <td>147.0</td>\n",
       "      <td>trial_vip_popup</td>\n",
       "      <td>trial_premium</td>\n",
       "    </tr>\n",
       "  </tbody>\n",
       "</table>\n",
       "</div>"
      ],
      "text/plain": [
       "           uid country            joined_at              paid_at  revenue  \\\n",
       "0  891319275.0  France  2017-05-11 19:57:00  2017-12-11 21:57:00  12727.0   \n",
       "1  892421826.0  Israel  2017-10-14 12:46:00  2017-10-23 12:54:00  14586.0   \n",
       "\n",
       "   payment_id        from_page   product_type  \n",
       "0       147.0  trial_vip_popup  trial_premium  \n",
       "1       147.0  trial_vip_popup  trial_premium  "
      ]
     },
     "execution_count": 4,
     "metadata": {},
     "output_type": "execute_result"
    }
   ],
   "source": [
    "# посмотрим на данные и проведем предобработку\n",
    "tr_control_1.head(2)"
   ]
  },
  {
   "cell_type": "code",
   "execution_count": 5,
   "metadata": {},
   "outputs": [
    {
     "data": {
      "text/html": [
       "<div>\n",
       "<style scoped>\n",
       "    .dataframe tbody tr th:only-of-type {\n",
       "        vertical-align: middle;\n",
       "    }\n",
       "\n",
       "    .dataframe tbody tr th {\n",
       "        vertical-align: top;\n",
       "    }\n",
       "\n",
       "    .dataframe thead th {\n",
       "        text-align: right;\n",
       "    }\n",
       "</style>\n",
       "<table border=\"1\" class=\"dataframe\">\n",
       "  <thead>\n",
       "    <tr style=\"text-align: right;\">\n",
       "      <th></th>\n",
       "      <th>uid</th>\n",
       "      <th>age</th>\n",
       "      <th>attraction_coeff</th>\n",
       "      <th>coins</th>\n",
       "      <th>country</th>\n",
       "      <th>visit_days</th>\n",
       "      <th>gender</th>\n",
       "      <th>age_filter_start</th>\n",
       "      <th>age_filter_end</th>\n",
       "      <th>views_count</th>\n",
       "      <th>was_premium</th>\n",
       "      <th>is_premium</th>\n",
       "      <th>total_revenue</th>\n",
       "    </tr>\n",
       "  </thead>\n",
       "  <tbody>\n",
       "    <tr>\n",
       "      <th>0</th>\n",
       "      <td>892035504</td>\n",
       "      <td>37</td>\n",
       "      <td>137</td>\n",
       "      <td>NaN</td>\n",
       "      <td>Israel</td>\n",
       "      <td>1,2,3,4,5,6,7,8,9,11,13</td>\n",
       "      <td>1</td>\n",
       "      <td>30</td>\n",
       "      <td>40</td>\n",
       "      <td>51</td>\n",
       "      <td>NaN</td>\n",
       "      <td>NaN</td>\n",
       "      <td>0</td>\n",
       "    </tr>\n",
       "    <tr>\n",
       "      <th>1</th>\n",
       "      <td>891782112</td>\n",
       "      <td>57</td>\n",
       "      <td>0</td>\n",
       "      <td>NaN</td>\n",
       "      <td>Italy</td>\n",
       "      <td>1</td>\n",
       "      <td>1</td>\n",
       "      <td>54</td>\n",
       "      <td>60</td>\n",
       "      <td>0</td>\n",
       "      <td>NaN</td>\n",
       "      <td>NaN</td>\n",
       "      <td>0</td>\n",
       "    </tr>\n",
       "  </tbody>\n",
       "</table>\n",
       "</div>"
      ],
      "text/plain": [
       "         uid  age  attraction_coeff  coins country               visit_days  \\\n",
       "0  892035504   37               137    NaN  Israel  1,2,3,4,5,6,7,8,9,11,13   \n",
       "1  891782112   57                 0    NaN   Italy                        1   \n",
       "\n",
       "   gender  age_filter_start  age_filter_end  views_count  was_premium  \\\n",
       "0       1                30              40           51          NaN   \n",
       "1       1                54              60            0          NaN   \n",
       "\n",
       "   is_premium  total_revenue  \n",
       "0         NaN              0  \n",
       "1         NaN              0  "
      ]
     },
     "execution_count": 5,
     "metadata": {},
     "output_type": "execute_result"
    }
   ],
   "source": [
    "users_control_2.head(2)"
   ]
  },
  {
   "cell_type": "markdown",
   "metadata": {},
   "source": [
    "Обработаем пропуски:"
   ]
  },
  {
   "cell_type": "code",
   "execution_count": 6,
   "metadata": {},
   "outputs": [],
   "source": [
    "# У монеток пропуски будем считать нулями\n",
    "users_control_1['coins'].fillna(0, inplace=True)\n",
    "users_control_2['coins'].fillna(0, inplace=True)\n",
    "users_test['coins'].fillna(0, inplace=True)\n",
    "\n",
    "# У визитов будем считать, что не посещал\n",
    "users_control_1['visit_days'].fillna(0, inplace=True)\n",
    "users_control_2['visit_days'].fillna(0, inplace=True)\n",
    "users_test['visit_days'].fillna(0, inplace=True)\n",
    "\n",
    "# Пропуски тут - нули бинарного выбора \n",
    "users_control_1['was_premium'].fillna(0, inplace=True)\n",
    "users_control_1['is_premium'].fillna(0, inplace=True)\n",
    "users_control_2['was_premium'].fillna(0, inplace=True)\n",
    "users_control_2['is_premium'].fillna(0, inplace=True)\n",
    "users_test['was_premium'].fillna(0, inplace=True)\n",
    "users_test['is_premium'].fillna(0, inplace=True)"
   ]
  },
  {
   "cell_type": "code",
   "execution_count": 7,
   "metadata": {},
   "outputs": [
    {
     "name": "stdout",
     "output_type": "stream",
     "text": [
      "<class 'pandas.core.frame.DataFrame'>\n",
      "RangeIndex: 4340 entries, 0 to 4339\n",
      "Data columns (total 13 columns):\n",
      " #   Column            Non-Null Count  Dtype  \n",
      "---  ------            --------------  -----  \n",
      " 0   uid               4340 non-null   int64  \n",
      " 1   age               4340 non-null   int64  \n",
      " 2   attraction_coeff  4340 non-null   int64  \n",
      " 3   coins             4340 non-null   float64\n",
      " 4   country           4340 non-null   object \n",
      " 5   visit_days        4340 non-null   object \n",
      " 6   gender            4340 non-null   int64  \n",
      " 7   age_filter_start  4340 non-null   int64  \n",
      " 8   age_filter_end    4340 non-null   int64  \n",
      " 9   views_count       4340 non-null   int64  \n",
      " 10  was_premium       4340 non-null   float64\n",
      " 11  is_premium        4340 non-null   float64\n",
      " 12  total_revenue     4340 non-null   int64  \n",
      "dtypes: float64(3), int64(8), object(2)\n",
      "memory usage: 440.9+ KB\n",
      "None\n",
      "<class 'pandas.core.frame.DataFrame'>\n",
      "RangeIndex: 4264 entries, 0 to 4263\n",
      "Data columns (total 13 columns):\n",
      " #   Column            Non-Null Count  Dtype  \n",
      "---  ------            --------------  -----  \n",
      " 0   uid               4264 non-null   int64  \n",
      " 1   age               4264 non-null   int64  \n",
      " 2   attraction_coeff  4264 non-null   int64  \n",
      " 3   coins             4264 non-null   float64\n",
      " 4   country           4264 non-null   object \n",
      " 5   visit_days        4264 non-null   object \n",
      " 6   gender            4264 non-null   int64  \n",
      " 7   age_filter_start  4264 non-null   int64  \n",
      " 8   age_filter_end    4264 non-null   int64  \n",
      " 9   views_count       4264 non-null   int64  \n",
      " 10  was_premium       4264 non-null   float64\n",
      " 11  is_premium        4264 non-null   float64\n",
      " 12  total_revenue     4264 non-null   int64  \n",
      "dtypes: float64(3), int64(8), object(2)\n",
      "memory usage: 433.2+ KB\n",
      "None\n",
      "<class 'pandas.core.frame.DataFrame'>\n",
      "RangeIndex: 4308 entries, 0 to 4307\n",
      "Data columns (total 13 columns):\n",
      " #   Column            Non-Null Count  Dtype  \n",
      "---  ------            --------------  -----  \n",
      " 0   uid               4308 non-null   int64  \n",
      " 1   age               4308 non-null   int64  \n",
      " 2   attraction_coeff  4308 non-null   int64  \n",
      " 3   coins             4308 non-null   float64\n",
      " 4   country           4308 non-null   object \n",
      " 5   visit_days        4308 non-null   object \n",
      " 6   gender            4308 non-null   int64  \n",
      " 7   age_filter_start  4308 non-null   int64  \n",
      " 8   age_filter_end    4308 non-null   int64  \n",
      " 9   views_count       4308 non-null   int64  \n",
      " 10  was_premium       4308 non-null   float64\n",
      " 11  is_premium        4308 non-null   float64\n",
      " 12  total_revenue     4308 non-null   int64  \n",
      "dtypes: float64(3), int64(8), object(2)\n",
      "memory usage: 437.7+ KB\n"
     ]
    }
   ],
   "source": [
    "# проверим что их больше нет:\n",
    "print(users_control_1.info())\n",
    "print(users_control_2.info())\n",
    "users_test.info()"
   ]
  },
  {
   "cell_type": "markdown",
   "metadata": {},
   "source": [
    "Пропусков нет,теперь посмотрим на распределения отдельных столбцов в датафреймах с общими данными о юзерах"
   ]
  },
  {
   "cell_type": "code",
   "execution_count": 8,
   "metadata": {},
   "outputs": [
    {
     "data": {
      "image/png": "[encoded data removed]",
      "text/plain": [
       "<Figure size 1584x288 with 3 Axes>"
      ]
     },
     "metadata": {
      "needs_background": "light"
     },
     "output_type": "display_data"
    }
   ],
   "source": [
    "# Возраст\n",
    "plt.figure(figsize=(22, 4))\n",
    "plt.subplot(131)\n",
    "plt.title('control 1')\n",
    "plt.hist(users_control_1.age)\n",
    "plt.subplot(132)\n",
    "plt.title('control 2')\n",
    "plt.hist(users_control_2.age)\n",
    "plt.subplot(133)\n",
    "plt.title('test')\n",
    "plt.hist(users_test.age);"
   ]
  },
  {
   "cell_type": "code",
   "execution_count": 9,
   "metadata": {},
   "outputs": [
    {
     "data": {
      "image/png": "[encoded data removed]",
      "text/plain": [
       "<Figure size 1584x288 with 3 Axes>"
      ]
     },
     "metadata": {
      "needs_background": "light"
     },
     "output_type": "display_data"
    }
   ],
   "source": [
    "# Привлекательность\n",
    "plt.figure(figsize=(22, 4))\n",
    "plt.subplot(131)\n",
    "plt.title('control 1')\n",
    "plt.hist(users_control_1.attraction_coeff)\n",
    "plt.subplot(132)\n",
    "plt.title('control 2')\n",
    "plt.hist(users_control_2.attraction_coeff)\n",
    "plt.subplot(133)\n",
    "plt.title('test')\n",
    "plt.hist(users_test.attraction_coeff);"
   ]
  },
  {
   "cell_type": "code",
   "execution_count": 10,
   "metadata": {},
   "outputs": [
    {
     "name": "stdout",
     "output_type": "stream",
     "text": [
      "Клиентов с нулевой выручкой 4148, всего 4340\n",
      "Клиентов с нулевой выручкой 4077, всего 4264\n",
      "Клиентов с нулевой выручкой 4162, всего 4308\n"
     ]
    }
   ],
   "source": [
    "zero_revenue_c1 = (users_control_1.total_revenue == 0).sum()\n",
    "zero_revenue_c2 = (users_control_2.total_revenue == 0).sum()\n",
    "zero_revenue_t = (users_test.total_revenue == 0).sum()\n",
    "\n",
    "print(f\"Клиентов с нулевой выручкой {zero_revenue_c1}, всего {users_control_1.shape[0]}\")\n",
    "print(f\"Клиентов с нулевой выручкой {zero_revenue_c2}, всего {users_control_2.shape[0]}\")\n",
    "print(f\"Клиентов с нулевой выручкой {zero_revenue_t}, всего {users_test.shape[0]}\")"
   ]
  },
  {
   "cell_type": "code",
   "execution_count": 11,
   "metadata": {},
   "outputs": [
    {
     "name": "stdout",
     "output_type": "stream",
     "text": [
      "1    4106\n",
      "0     202\n",
      "Name: gender, dtype: int64\n",
      "1    4158\n",
      "0     182\n",
      "Name: gender, dtype: int64\n"
     ]
    },
    {
     "data": {
      "text/plain": [
       "1    4069\n",
       "0     195\n",
       "Name: gender, dtype: int64"
      ]
     },
     "execution_count": 11,
     "metadata": {},
     "output_type": "execute_result"
    }
   ],
   "source": [
    "# Пол\n",
    "print(users_test.gender.value_counts())\n",
    "print(users_control_1.gender.value_counts())\n",
    "users_control_2.gender.value_counts()"
   ]
  },
  {
   "cell_type": "code",
   "execution_count": 12,
   "metadata": {},
   "outputs": [
    {
     "name": "stdout",
     "output_type": "stream",
     "text": [
      "0.0    4151\n",
      "1.0     157\n",
      "Name: is_premium, dtype: int64\n",
      "0.0    4148\n",
      "1.0     192\n",
      "Name: is_premium, dtype: int64\n"
     ]
    },
    {
     "data": {
      "text/plain": [
       "0.0    4073\n",
       "1.0     191\n",
       "Name: is_premium, dtype: int64"
      ]
     },
     "execution_count": 12,
     "metadata": {},
     "output_type": "execute_result"
    }
   ],
   "source": [
    "# Премиум\n",
    "print(users_test.is_premium.value_counts())\n",
    "print(users_control_1.is_premium.value_counts())\n",
    "users_control_2.is_premium.value_counts()"
   ]
  },
  {
   "cell_type": "code",
   "execution_count": 13,
   "metadata": {},
   "outputs": [
    {
     "name": "stdout",
     "output_type": "stream",
     "text": [
      "United States of America          1471\n",
      "Argentina                          389\n",
      "France                             370\n",
      "Spain                              342\n",
      "Italy                              338\n",
      "Chile                              287\n",
      "United Arab Emirates               207\n",
      "Germany                            188\n",
      "United Kingdom (Great Britain)     146\n",
      "Canada                             134\n",
      "Israel                             109\n",
      "Belgium                            108\n",
      "Portugal                           100\n",
      "Australia                           50\n",
      "Switzerland                         42\n",
      "Ukraine                              8\n",
      "Turkey                               8\n",
      "India                                6\n",
      "Russian Federation                   6\n",
      "Mexico                               4\n",
      "Tunisia                              3\n",
      "Venezuela                            2\n",
      "Puerto Rico                          2\n",
      "Dominican Republic                   2\n",
      "Egypt                                2\n",
      "Algeria                              2\n",
      "Sweden                               1\n",
      "Jamaica                              1\n",
      "Burkina Faso                         1\n",
      "Colombia                             1\n",
      "Romania                              1\n",
      "Philippines                          1\n",
      "Qatar                                1\n",
      "Costa Rica                           1\n",
      "Peru                                 1\n",
      "Panama                               1\n",
      "Kyrgyzstan                           1\n",
      "Armenia                              1\n",
      "Moldova, Republic of                 1\n",
      "China                                1\n",
      "Name: country, dtype: int64\n",
      "United States of America          1486\n",
      "Argentina                          397\n",
      "France                             376\n",
      "Spain                              310\n",
      "Italy                              293\n",
      "Chile                              286\n",
      "United Arab Emirates               211\n",
      "Germany                            202\n",
      "United Kingdom (Great Britain)     146\n",
      "Canada                             134\n",
      "Portugal                           100\n",
      "Belgium                             90\n",
      "Israel                              78\n",
      "Australia                           51\n",
      "Switzerland                         35\n",
      "Ukraine                             18\n",
      "Russian Federation                   8\n",
      "Morocco                              5\n",
      "Turkey                               5\n",
      "Mexico                               4\n",
      "India                                2\n",
      "Austria                              2\n",
      "Pakistan                             2\n",
      "Colombia                             2\n",
      "Costa Rica                           1\n",
      "Kyrgyzstan                           1\n",
      "Kuwait                               1\n",
      "Georgia                              1\n",
      "Malaysia                             1\n",
      "Dominican Republic                   1\n",
      "Paraguay                             1\n",
      "Belarus                              1\n",
      "Nicaragua                            1\n",
      "Mali                                 1\n",
      "Peru                                 1\n",
      "Tajikistan                           1\n",
      "Hungary                              1\n",
      "Lithuania                            1\n",
      "Uganda                               1\n",
      "China                                1\n",
      "Somalia                              1\n",
      "New Zealand                          1\n",
      "Qatar                                1\n",
      "Czech Republic                       1\n",
      "Uruguay                              1\n",
      "Name: country, dtype: int64\n",
      "United States of America          1450\n",
      "Argentina                          396\n",
      "France                             359\n",
      "Italy                              323\n",
      "Spain                              301\n",
      "Chile                              272\n",
      "United Arab Emirates               226\n",
      "Germany                            209\n",
      "United Kingdom (Great Britain)     169\n",
      "Canada                             137\n",
      "Israel                             106\n",
      "Belgium                             92\n",
      "Portugal                            91\n",
      "Australia                           62\n",
      "Switzerland                         35\n",
      "Ukraine                             15\n",
      "Mexico                               7\n",
      "Russian Federation                   7\n",
      "Turkey                               5\n",
      "Indonesia                            4\n",
      "India                                4\n",
      "Morocco                              3\n",
      "Tunisia                              3\n",
      "Latvia                               2\n",
      "Algeria                              2\n",
      "Tajikistan                           2\n",
      "Pakistan                             2\n",
      "Georgia                              1\n",
      "Islamic Republic of Iran             1\n",
      "Dominican Republic                   1\n",
      "Singapore                            1\n",
      "Guatemala                            1\n",
      "Gambia                               1\n",
      "Bolivia                              1\n",
      "Uruguay                              1\n",
      "Uzbekistan                           1\n",
      "Nepal                                1\n",
      "Hungary                              1\n",
      "Colombia                             1\n",
      "Brazil                               1\n",
      "Romania                              1\n",
      "Philippines                          1\n",
      "Iraq                                 1\n",
      "Egypt                                1\n",
      "Costa Rica                           1\n",
      "Azerbaijan                           1\n",
      "Peru                                 1\n",
      "Kyrgyzstan                           1\n",
      "Korea, Republic of                   1\n",
      "Monaco                               1\n",
      "Puerto Rico                          1\n",
      "Name: country, dtype: int64\n"
     ]
    }
   ],
   "source": [
    "print(users_control_1.country.value_counts())\n",
    "print(users_control_2.country.value_counts())\n",
    "print(users_test.country.value_counts())"
   ]
  },
  {
   "cell_type": "markdown",
   "metadata": {},
   "source": [
    "#### Первоначальные выводы:\n",
    "* У нас привалируют люди определенного пола (единички)\n",
    "* есть несколько очень старых людей.\n",
    "* Почти у всех клиентов выручка = 0 \n",
    "* Большинство клиентов из Америки, Аргентины, Франции, Испании и Чили\n",
    "\n",
    "Оставим 99% перцентиль клиентов по возрасту. Оставим только клиентов из стран где больше 30 клиентов."
   ]
  },
  {
   "cell_type": "code",
   "execution_count": 14,
   "metadata": {},
   "outputs": [],
   "source": [
    "# Возраст\n",
    "quant_99_age_c1 = users_control_1.age.quantile(.99)\n",
    "quant_99_age_c2 = users_control_2.age.quantile(.99)\n",
    "quant_99_age_t = users_test.age.quantile(.99)\n",
    "\n",
    "\n",
    "users_control_1 = users_control_1[users_control_1.age < quant_99_age_c1]\n",
    "users_control_2 = users_control_2[users_control_2.age < quant_99_age_c2]\n",
    "users_test = users_test[users_test.age < quant_99_age_t]"
   ]
  },
  {
   "cell_type": "code",
   "execution_count": 15,
   "metadata": {},
   "outputs": [],
   "source": [
    "# страна \n",
    "countries = pd.DataFrame(users_control_2.country.value_counts())\n",
    "countries = countries[countries.country > 30].index  # тут страны которые нужно оставить\n",
    "\n",
    "users_control_1 = users_control_1[users_control_1.country.isin(countries)]\n",
    "users_control_2 = users_control_2[users_control_2.country.isin(countries)]\n",
    "users_test = users_test[users_test.country.isin(countries)]"
   ]
  },
  {
   "cell_type": "markdown",
   "metadata": {},
   "source": [
    "### Поанализируем датафрейм с транзакциями"
   ]
  },
  {
   "cell_type": "code",
   "execution_count": 16,
   "metadata": {},
   "outputs": [
    {
     "name": "stdout",
     "output_type": "stream",
     "text": [
      "<class 'pandas.core.frame.DataFrame'>\n",
      "RangeIndex: 1007 entries, 0 to 1006\n",
      "Data columns (total 8 columns):\n",
      " #   Column        Non-Null Count  Dtype  \n",
      "---  ------        --------------  -----  \n",
      " 0   uid           377 non-null    float64\n",
      " 1   country       377 non-null    object \n",
      " 2   joined_at     1007 non-null   object \n",
      " 3   paid_at       1007 non-null   object \n",
      " 4   revenue       377 non-null    float64\n",
      " 5   payment_id    377 non-null    float64\n",
      " 6   from_page     377 non-null    object \n",
      " 7   product_type  377 non-null    object \n",
      "dtypes: float64(3), object(5)\n",
      "memory usage: 63.1+ KB\n"
     ]
    }
   ],
   "source": [
    "# сразу видно, что у нас достаточно мало строк с информацией здесь (всего 377 из 1007). Оставим только их! \n",
    "tr_control_1.info()"
   ]
  },
  {
   "cell_type": "code",
   "execution_count": 17,
   "metadata": {},
   "outputs": [],
   "source": [
    "tr_control_1 = tr_control_1[~tr_control_1.uid.isna()]\n",
    "tr_control_2 = tr_control_2[~tr_control_2.uid.isna()]\n",
    "tr_test = tr_test[~tr_test.uid.isna()]"
   ]
  },
  {
   "cell_type": "code",
   "execution_count": 18,
   "metadata": {},
   "outputs": [],
   "source": [
    "# преобразуем форматы\n",
    "tr_control_1.uid = tr_control_1.uid.astype('int64')\n",
    "tr_control_2.uid = tr_control_2.uid.astype('int64')\n",
    "tr_test.uid = tr_test.uid.astype('int64')\n",
    "\n",
    "func = lambda s: pd.to_datetime(s[:10])\n",
    "\n",
    "tr_control_1.joined_at = tr_control_1.joined_at.apply(func)\n",
    "tr_control_1.paid_at = tr_control_1.paid_at.apply(func)\n",
    "\n",
    "tr_control_2.joined_at = tr_control_2.joined_at.apply(func)\n",
    "tr_control_2.paid_at = tr_control_2.paid_at.apply(func)\n",
    "\n",
    "tr_test.joined_at = tr_test.joined_at.apply(func)\n",
    "tr_test.paid_at = tr_test.paid_at.apply(func)"
   ]
  },
  {
   "cell_type": "code",
   "execution_count": 19,
   "metadata": {},
   "outputs": [],
   "source": [
    "# join таблиц\n",
    "control_1 = tr_control_1.merge(users_control_1, on=['uid', 'country'])\n",
    "control_2 = tr_control_2.merge(users_control_2, on=['uid', 'country'])\n",
    "test = tr_test.merge(users_test, on=['uid', 'country'])"
   ]
  },
  {
   "cell_type": "code",
   "execution_count": 20,
   "metadata": {},
   "outputs": [],
   "source": [
    "# не все столбцы нам нужны в дальнейшем анализе, поэтому уберем их и перобразуем формат данных\n",
    "\n",
    "control_1.drop(['payment_id', 'visit_days', \"joined_at\", 'paid_at', 'coins', \n",
    "                'age_filter_start', 'age_filter_end'], axis=1, inplace=True)\n",
    "\n",
    "control_2.drop(['payment_id', 'visit_days', \"joined_at\", 'paid_at', \n",
    "                'coins', 'age_filter_start', 'age_filter_end'], axis=1, inplace=True)\n",
    "\n",
    "test.drop(['payment_id', 'visit_days', 'age_filter_start', \"joined_at\", 'paid_at', \n",
    "           'coins', 'age_filter_end'], axis=1, inplace=True)\n",
    "\n",
    "\n",
    "# для красоты переведу в int\n",
    "columns = ['revenue', 'gender', 'was_premium', 'is_premium', 'attraction_coeff', 'views_count', 'age'] \n",
    "control_1[columns] = control_1[columns].astype('int64')\n",
    "control_2[columns] = control_2[columns].astype('int64')\n",
    "test[columns] = test[columns].astype('int64')"
   ]
  },
  {
   "cell_type": "code",
   "execution_count": 21,
   "metadata": {},
   "outputs": [
    {
     "data": {
      "text/html": [
       "<div>\n",
       "<style scoped>\n",
       "    .dataframe tbody tr th:only-of-type {\n",
       "        vertical-align: middle;\n",
       "    }\n",
       "\n",
       "    .dataframe tbody tr th {\n",
       "        vertical-align: top;\n",
       "    }\n",
       "\n",
       "    .dataframe thead th {\n",
       "        text-align: right;\n",
       "    }\n",
       "</style>\n",
       "<table border=\"1\" class=\"dataframe\">\n",
       "  <thead>\n",
       "    <tr style=\"text-align: right;\">\n",
       "      <th></th>\n",
       "      <th>uid</th>\n",
       "      <th>country</th>\n",
       "      <th>revenue</th>\n",
       "      <th>from_page</th>\n",
       "      <th>product_type</th>\n",
       "      <th>age</th>\n",
       "      <th>attraction_coeff</th>\n",
       "      <th>gender</th>\n",
       "      <th>views_count</th>\n",
       "      <th>was_premium</th>\n",
       "      <th>is_premium</th>\n",
       "      <th>total_revenue</th>\n",
       "    </tr>\n",
       "  </thead>\n",
       "  <tbody>\n",
       "    <tr>\n",
       "      <th>0</th>\n",
       "      <td>891266616</td>\n",
       "      <td>Argentina</td>\n",
       "      <td>6305</td>\n",
       "      <td>autorefill</td>\n",
       "      <td>coins</td>\n",
       "      <td>28</td>\n",
       "      <td>229</td>\n",
       "      <td>1</td>\n",
       "      <td>48</td>\n",
       "      <td>1</td>\n",
       "      <td>1</td>\n",
       "      <td>18902</td>\n",
       "    </tr>\n",
       "    <tr>\n",
       "      <th>1</th>\n",
       "      <td>891266616</td>\n",
       "      <td>Argentina</td>\n",
       "      <td>6305</td>\n",
       "      <td>empty_likes</td>\n",
       "      <td>coins</td>\n",
       "      <td>28</td>\n",
       "      <td>229</td>\n",
       "      <td>1</td>\n",
       "      <td>48</td>\n",
       "      <td>1</td>\n",
       "      <td>1</td>\n",
       "      <td>18902</td>\n",
       "    </tr>\n",
       "    <tr>\n",
       "      <th>2</th>\n",
       "      <td>891266616</td>\n",
       "      <td>Argentina</td>\n",
       "      <td>6292</td>\n",
       "      <td>promo_09</td>\n",
       "      <td>premium_no_trial</td>\n",
       "      <td>28</td>\n",
       "      <td>229</td>\n",
       "      <td>1</td>\n",
       "      <td>48</td>\n",
       "      <td>1</td>\n",
       "      <td>1</td>\n",
       "      <td>18902</td>\n",
       "    </tr>\n",
       "    <tr>\n",
       "      <th>3</th>\n",
       "      <td>892186737</td>\n",
       "      <td>Chile</td>\n",
       "      <td>4732</td>\n",
       "      <td>promo_09</td>\n",
       "      <td>premium_no_trial</td>\n",
       "      <td>30</td>\n",
       "      <td>250</td>\n",
       "      <td>1</td>\n",
       "      <td>8</td>\n",
       "      <td>1</td>\n",
       "      <td>1</td>\n",
       "      <td>4732</td>\n",
       "    </tr>\n",
       "    <tr>\n",
       "      <th>4</th>\n",
       "      <td>891959004</td>\n",
       "      <td>United States of America</td>\n",
       "      <td>10153</td>\n",
       "      <td>trial_vip_popup</td>\n",
       "      <td>trial_premium</td>\n",
       "      <td>45</td>\n",
       "      <td>0</td>\n",
       "      <td>1</td>\n",
       "      <td>0</td>\n",
       "      <td>1</td>\n",
       "      <td>1</td>\n",
       "      <td>10153</td>\n",
       "    </tr>\n",
       "  </tbody>\n",
       "</table>\n",
       "</div>"
      ],
      "text/plain": [
       "         uid                   country  revenue        from_page  \\\n",
       "0  891266616                 Argentina     6305       autorefill   \n",
       "1  891266616                 Argentina     6305      empty_likes   \n",
       "2  891266616                 Argentina     6292         promo_09   \n",
       "3  892186737                     Chile     4732         promo_09   \n",
       "4  891959004  United States of America    10153  trial_vip_popup   \n",
       "\n",
       "       product_type  age  attraction_coeff  gender  views_count  was_premium  \\\n",
       "0             coins   28               229       1           48            1   \n",
       "1             coins   28               229       1           48            1   \n",
       "2  premium_no_trial   28               229       1           48            1   \n",
       "3  premium_no_trial   30               250       1            8            1   \n",
       "4     trial_premium   45                 0       1            0            1   \n",
       "\n",
       "   is_premium  total_revenue  \n",
       "0           1          18902  \n",
       "1           1          18902  \n",
       "2           1          18902  \n",
       "3           1           4732  \n",
       "4           1          10153  "
      ]
     },
     "execution_count": 21,
     "metadata": {},
     "output_type": "execute_result"
    }
   ],
   "source": [
    "# посмотрим что получилось\n",
    "control_2.head()"
   ]
  },
  {
   "cell_type": "markdown",
   "metadata": {},
   "source": [
    "Для удобства соединим все таблицы в одну!"
   ]
  },
  {
   "cell_type": "code",
   "execution_count": 22,
   "metadata": {},
   "outputs": [],
   "source": [
    "control_1['experimentVariant'] = 'control_1'\n",
    "control_2['experimentVariant'] = 'control_2'\n",
    "test['experimentVariant'] = 'test'\n",
    "\n",
    "data = pd.concat([control_1, control_2, test])"
   ]
  },
  {
   "cell_type": "code",
   "execution_count": 23,
   "metadata": {},
   "outputs": [
    {
     "data": {
      "text/html": [
       "<div>\n",
       "<style scoped>\n",
       "    .dataframe tbody tr th:only-of-type {\n",
       "        vertical-align: middle;\n",
       "    }\n",
       "\n",
       "    .dataframe tbody tr th {\n",
       "        vertical-align: top;\n",
       "    }\n",
       "\n",
       "    .dataframe thead th {\n",
       "        text-align: right;\n",
       "    }\n",
       "</style>\n",
       "<table border=\"1\" class=\"dataframe\">\n",
       "  <thead>\n",
       "    <tr style=\"text-align: right;\">\n",
       "      <th></th>\n",
       "      <th>uid</th>\n",
       "      <th>country</th>\n",
       "      <th>revenue</th>\n",
       "      <th>from_page</th>\n",
       "      <th>product_type</th>\n",
       "      <th>age</th>\n",
       "      <th>attraction_coeff</th>\n",
       "      <th>gender</th>\n",
       "      <th>views_count</th>\n",
       "      <th>was_premium</th>\n",
       "      <th>is_premium</th>\n",
       "      <th>total_revenue</th>\n",
       "      <th>experimentVariant</th>\n",
       "    </tr>\n",
       "  </thead>\n",
       "  <tbody>\n",
       "    <tr>\n",
       "      <th>0</th>\n",
       "      <td>891319275</td>\n",
       "      <td>France</td>\n",
       "      <td>12727</td>\n",
       "      <td>trial_vip_popup</td>\n",
       "      <td>trial_premium</td>\n",
       "      <td>27</td>\n",
       "      <td>0</td>\n",
       "      <td>1</td>\n",
       "      <td>2</td>\n",
       "      <td>1</td>\n",
       "      <td>1</td>\n",
       "      <td>13455</td>\n",
       "      <td>control_1</td>\n",
       "    </tr>\n",
       "    <tr>\n",
       "      <th>1</th>\n",
       "      <td>891319275</td>\n",
       "      <td>France</td>\n",
       "      <td>728</td>\n",
       "      <td>ad_to_photo</td>\n",
       "      <td>coins</td>\n",
       "      <td>27</td>\n",
       "      <td>0</td>\n",
       "      <td>1</td>\n",
       "      <td>2</td>\n",
       "      <td>1</td>\n",
       "      <td>1</td>\n",
       "      <td>13455</td>\n",
       "      <td>control_1</td>\n",
       "    </tr>\n",
       "    <tr>\n",
       "      <th>2</th>\n",
       "      <td>892421826</td>\n",
       "      <td>Israel</td>\n",
       "      <td>14586</td>\n",
       "      <td>trial_vip_popup</td>\n",
       "      <td>trial_premium</td>\n",
       "      <td>31</td>\n",
       "      <td>43</td>\n",
       "      <td>1</td>\n",
       "      <td>69</td>\n",
       "      <td>1</td>\n",
       "      <td>1</td>\n",
       "      <td>14586</td>\n",
       "      <td>control_1</td>\n",
       "    </tr>\n",
       "    <tr>\n",
       "      <th>3</th>\n",
       "      <td>891822480</td>\n",
       "      <td>Italy</td>\n",
       "      <td>1911</td>\n",
       "      <td>none</td>\n",
       "      <td>coins</td>\n",
       "      <td>28</td>\n",
       "      <td>337</td>\n",
       "      <td>1</td>\n",
       "      <td>77</td>\n",
       "      <td>1</td>\n",
       "      <td>1</td>\n",
       "      <td>17810</td>\n",
       "      <td>control_1</td>\n",
       "    </tr>\n",
       "    <tr>\n",
       "      <th>4</th>\n",
       "      <td>891822480</td>\n",
       "      <td>Italy</td>\n",
       "      <td>1898</td>\n",
       "      <td>none</td>\n",
       "      <td>coins</td>\n",
       "      <td>28</td>\n",
       "      <td>337</td>\n",
       "      <td>1</td>\n",
       "      <td>77</td>\n",
       "      <td>1</td>\n",
       "      <td>1</td>\n",
       "      <td>17810</td>\n",
       "      <td>control_1</td>\n",
       "    </tr>\n",
       "  </tbody>\n",
       "</table>\n",
       "</div>"
      ],
      "text/plain": [
       "         uid country  revenue        from_page   product_type  age  \\\n",
       "0  891319275  France    12727  trial_vip_popup  trial_premium   27   \n",
       "1  891319275  France      728      ad_to_photo          coins   27   \n",
       "2  892421826  Israel    14586  trial_vip_popup  trial_premium   31   \n",
       "3  891822480   Italy     1911             none          coins   28   \n",
       "4  891822480   Italy     1898             none          coins   28   \n",
       "\n",
       "   attraction_coeff  gender  views_count  was_premium  is_premium  \\\n",
       "0                 0       1            2            1           1   \n",
       "1                 0       1            2            1           1   \n",
       "2                43       1           69            1           1   \n",
       "3               337       1           77            1           1   \n",
       "4               337       1           77            1           1   \n",
       "\n",
       "   total_revenue experimentVariant  \n",
       "0          13455         control_1  \n",
       "1          13455         control_1  \n",
       "2          14586         control_1  \n",
       "3          17810         control_1  \n",
       "4          17810         control_1  "
      ]
     },
     "execution_count": 23,
     "metadata": {},
     "output_type": "execute_result"
    }
   ],
   "source": [
    "# Предобработка завершена! С этой таблицей и будем работать дальше\n",
    "data.head()"
   ]
  },
  {
   "cell_type": "markdown",
   "metadata": {},
   "source": [
    ">Cюдя по всему, было проведено А/А/Б тестирование, так как у нас есть две контрольных группы.\n",
    "Чтобы понять достаточно ли схожи две контрольные группы (control_1, control_2) и был ли эксперимент успешен в целом, проведем t-test, а затем разделим пользователей на различные когорты и посмотрим на то,  сколько они (различные когорты людей) потратили денег в нашем приложении и сравним эти показатели в контрольной группе и тестовой"
   ]
  },
  {
   "cell_type": "markdown",
   "metadata": {},
   "source": [
    "**Для начала сформулируем гипотезу:** \n",
    "\n",
    "$$H_0 : Revenue_{group_{1}} = Revenue_{group_{2}}$$\n",
    "\n",
    "$$H_1 : Revenue_{group_{1}} \\neq Revenue_{group_{2}} $$\n",
    "\n",
    "Будет проверять ее на `5% уровне значимости`"
   ]
  },
  {
   "cell_type": "markdown",
   "metadata": {},
   "source": [
    "Поскольку для проведения `t-test` неоходима независимость наблюдей, но в наших данных один человек мог совершить несколько покупок! Поэтому мы будем смотреть на общую сумму трат каждого пользователя `total_revenue`"
   ]
  },
  {
   "cell_type": "code",
   "execution_count": 24,
   "metadata": {},
   "outputs": [
    {
     "data": {
      "image/png": "[encoded data removed]",
      "text/plain": [
       "<Figure size 1584x288 with 3 Axes>"
      ]
     },
     "metadata": {
      "needs_background": "light"
     },
     "output_type": "display_data"
    }
   ],
   "source": [
    "# выручка\n",
    "plt.figure(figsize=(22, 4))\n",
    "plt.subplot(131)\n",
    "plt.title('control 1')\n",
    "plt.hist(data[data.experimentVariant == 'control_1'].revenue)\n",
    "plt.subplot(132)\n",
    "plt.title('control 2')\n",
    "plt.hist(data[data.experimentVariant == 'control_2'].revenue)\n",
    "plt.subplot(133)\n",
    "plt.title('test')\n",
    "plt.hist(data[data.experimentVariant == 'test'].revenue);"
   ]
  },
  {
   "cell_type": "code",
   "execution_count": 25,
   "metadata": {},
   "outputs": [],
   "source": [
    "# Поскольку если человек совершил несколько покупок, ему несколько раз одно и то же запишется в total_revenue, нам\n",
    "# нужно будет удалить дубликаты\n",
    "rev_cont1 = data[data.experimentVariant == 'control_1'][['uid', 'total_revenue']].drop_duplicates().total_revenue + 1\n",
    "rev_cont2 = data[data.experimentVariant == 'control_2'][['uid', 'total_revenue']].drop_duplicates().total_revenue + 1\n",
    "rev_test = data[data.experimentVariant == 'test'][['uid', 'total_revenue']].drop_duplicates().total_revenue + 1"
   ]
  },
  {
   "cell_type": "code",
   "execution_count": 40,
   "metadata": {},
   "outputs": [
    {
     "name": "stdout",
     "output_type": "stream",
     "text": [
      "p-value для контрольных групп = 0.253\n"
     ]
    }
   ],
   "source": [
    "# теперь можем проводить t-test\n",
    "p_value = stats.ttest_ind(rev_cont1, rev_cont2)[1]\n",
    "print(f'p-value для контрольных групп = {p_value:.3f}')"
   ]
  },
  {
   "cell_type": "markdown",
   "metadata": {},
   "source": [
    "А/А тест проведен корректно, можем брять любую контрольную группу и смотреть на результаты А/Б теста"
   ]
  },
  {
   "cell_type": "code",
   "execution_count": 41,
   "metadata": {},
   "outputs": [
    {
     "name": "stdout",
     "output_type": "stream",
     "text": [
      "p-value для контрольной 2 и тестовой групп = 0.001\n"
     ]
    }
   ],
   "source": [
    "p_value = stats.ttest_ind(rev_cont2, rev_test)[1]\n",
    "print(f'p-value для контрольной 2 и тестовой групп = {p_value:.3f}')"
   ]
  },
  {
   "cell_type": "markdown",
   "metadata": {},
   "source": [
    "*Посмотрим также только на тех пользователей, кто купил премиум подписку*"
   ]
  },
  {
   "cell_type": "code",
   "execution_count": 42,
   "metadata": {},
   "outputs": [],
   "source": [
    "rev_cont2_prem = data[(data.experimentVariant == 'control_2') & (data.product_type == 'premium_no_trial')][['uid', 'total_revenue']].drop_duplicates().total_revenue + 1\n",
    "\n",
    "rev_test_prem = data[(data.experimentVariant == 'test') & (data.product_type == 'premium_no_trial')][['uid', 'total_revenue']].drop_duplicates().total_revenue + 1"
   ]
  },
  {
   "cell_type": "code",
   "execution_count": 44,
   "metadata": {},
   "outputs": [
    {
     "name": "stdout",
     "output_type": "stream",
     "text": [
      "p-value для контрольных групп = 0.258\n",
      "p-value для контрольной 2 и тестовой групп = 0.007\n"
     ]
    }
   ],
   "source": [
    "p_value = stats.ttest_ind(rev_cont1_prem, rev_cont2_prem)[1]\n",
    "print(f'p-value для контрольных групп = {p_value:.3f}')\n",
    "\n",
    "p_value = stats.ttest_ind(rev_cont2_prem, rev_test_prem)[1]\n",
    "print(f'p-value для контрольной 2 и тестовой групп = {p_value:.3f}')"
   ]
  },
  {
   "cell_type": "markdown",
   "metadata": {},
   "source": [
    "**Выводы:**\n",
    "1. Мы не можем отвергнуть гипотезу о том, что `revenue` в контрольных группах одинаковые на 5% уровне значимости\n",
    "2. Мы отвергаем гипотезу о равенстве `revenue` для тестовой и контрольной группе на 5% уровне значимости и принимаем альтернативную гипотезу.\n",
    "\n",
    "Такой же вывод для пользователей с премиум подпиской.\n",
    "\n",
    "> Сделовательно, A/A тест проведен успешно, и А/Б тоже показал различия (для контрольной группы2)."
   ]
  },
  {
   "cell_type": "markdown",
   "metadata": {},
   "source": [
    "# Далее мы будем смотреть на изменения у различных групп пользователей"
   ]
  },
  {
   "cell_type": "markdown",
   "metadata": {},
   "source": [
    "Узнаем первый самый простой показатель, это ARPU"
   ]
  },
  {
   "cell_type": "code",
   "execution_count": 45,
   "metadata": {},
   "outputs": [
    {
     "data": {
      "text/plain": [
       "count      183.000000\n",
       "mean     10245.491803\n",
       "std       9370.226387\n",
       "min        481.000000\n",
       "25%       6025.500000\n",
       "50%       7813.000000\n",
       "75%      12727.000000\n",
       "max      81796.000000\n",
       "Name: revenue, dtype: float64"
      ]
     },
     "execution_count": 45,
     "metadata": {},
     "output_type": "execute_result"
    }
   ],
   "source": [
    "# использую метод describe(), чтобы так же видеть и другие статистические данные\n",
    "data[data.experimentVariant == 'control_2'].groupby('uid', as_index=False).agg({\"revenue\": \"sum\"}).revenue.describe()"
   ]
  },
  {
   "cell_type": "code",
   "execution_count": 46,
   "metadata": {},
   "outputs": [
    {
     "data": {
      "text/plain": [
       "count       141.000000\n",
       "mean      15998.390071\n",
       "std       18513.285292\n",
       "min         624.000000\n",
       "25%        8242.000000\n",
       "50%       12727.000000\n",
       "75%       16471.000000\n",
       "max      129870.000000\n",
       "Name: revenue, dtype: float64"
      ]
     },
     "execution_count": 46,
     "metadata": {},
     "output_type": "execute_result"
    }
   ],
   "source": [
    "data[data.experimentVariant == 'test'].groupby('uid', as_index=False).agg({\"revenue\": \"sum\"}).revenue.describe()"
   ]
  },
  {
   "cell_type": "markdown",
   "metadata": {},
   "source": [
    "Теперь посчитаем ARPU, только для тех, кто купил премиум подписку"
   ]
  },
  {
   "cell_type": "code",
   "execution_count": 80,
   "metadata": {
    "scrolled": true
   },
   "outputs": [
    {
     "data": {
      "text/plain": [
       "count      100.000000\n",
       "mean      7343.960000\n",
       "std       9648.152035\n",
       "min       1482.000000\n",
       "25%       4722.250000\n",
       "50%       6292.000000\n",
       "75%       6305.000000\n",
       "max      81796.000000\n",
       "Name: revenue, dtype: float64"
      ]
     },
     "execution_count": 80,
     "metadata": {},
     "output_type": "execute_result"
    }
   ],
   "source": [
    "data[data.experimentVariant == 'control_2'].query(\"product_type == ('premium_no_trial')\")\\\n",
    "                                           .groupby('uid', as_index=False).agg({\"revenue\": \"sum\"})\\\n",
    "                                           .revenue.describe()"
   ]
  },
  {
   "cell_type": "code",
   "execution_count": 81,
   "metadata": {},
   "outputs": [
    {
     "data": {
      "text/plain": [
       "count        63.000000\n",
       "mean      12273.238095\n",
       "std       18848.251313\n",
       "min        1898.000000\n",
       "25%        6292.000000\n",
       "50%        8697.000000\n",
       "75%       12597.000000\n",
       "max      113477.000000\n",
       "Name: revenue, dtype: float64"
      ]
     },
     "execution_count": 81,
     "metadata": {},
     "output_type": "execute_result"
    }
   ],
   "source": [
    "data[data.experimentVariant == 'test'].query(\"product_type == ('premium_no_trial')\")\\\n",
    "                                      .groupby('uid', as_index=False).agg({\"revenue\": \"sum\"})\\\n",
    "                                      .revenue.describe()"
   ]
  },
  {
   "cell_type": "markdown",
   "metadata": {},
   "source": [
    "**Итак мы получаем вот такие показатели:** \n",
    "\n",
    "группа `control_2` \n",
    "- ARPU(по всем покупкам) - 10245 и всего 183 уникальных пользователя,\n",
    "- ARPU только тех, кто купил премиум подписку 7344, таких пользователей было 100\n",
    "% пользователей, кто купил премиум подписку 55% (100/183*100 = 55%)\n",
    "\n",
    "группа `test` \n",
    "- ARPU(по всем покупкам) - 15998 и всего 141 уникальных пользователя,\n",
    "- ARPU только тех, кто купил премиум подписку 12273, таких пользователей было 63\n",
    "% пользователей, кто купил премиум подписку 45% (63/141*100 = 45%)\n",
    "\n",
    ">Eсли делать предварительный вывод, я бы сказала, что эксперимент был в целом успешен, так как ARPU в тестовой группе выше(так же как и медиана), хотя, пользователей, купивших премиум подписку стало на 5-9% меньше  (возможно, новый вариант оплаты чуть сложнее по началу,может содержать дополнительный шаг или что-то в этом роде, но позже, когда плата списывается автоматически, пользователи дольше ее не отключают из-за более низкой стоимости и тратят в итоге больше денег) "
   ]
  },
  {
   "cell_type": "markdown",
   "metadata": {},
   "source": [
    "#### Посмотрим ARPU по разным типам пользователей, для тех, кто купил премиум подписку, начнем с пола пользователя "
   ]
  },
  {
   "cell_type": "code",
   "execution_count": 47,
   "metadata": {
    "scrolled": true
   },
   "outputs": [
    {
     "data": {
      "text/plain": [
       "count       5.000000\n",
       "mean     5080.400000\n",
       "std      1184.120898\n",
       "min      3588.000000\n",
       "25%      4537.000000\n",
       "50%      4693.000000\n",
       "75%      6292.000000\n",
       "max      6292.000000\n",
       "Name: revenue, dtype: float64"
      ]
     },
     "execution_count": 47,
     "metadata": {},
     "output_type": "execute_result"
    }
   ],
   "source": [
    "data[data.experimentVariant == 'control_2'].query(\"gender == 0\").query(\"product_type == ('premium_no_trial')\")\\\n",
    "                                           .groupby('uid', as_index=False).agg({\"revenue\": \"sum\"}).revenue.describe()"
   ]
  },
  {
   "cell_type": "code",
   "execution_count": 48,
   "metadata": {},
   "outputs": [
    {
     "data": {
      "text/plain": [
       "count       95.000000\n",
       "mean      7463.094737\n",
       "std       9883.912084\n",
       "min       1482.000000\n",
       "25%       4732.000000\n",
       "50%       6292.000000\n",
       "75%       6357.000000\n",
       "max      81796.000000\n",
       "Name: revenue, dtype: float64"
      ]
     },
     "execution_count": 48,
     "metadata": {},
     "output_type": "execute_result"
    }
   ],
   "source": [
    "data[data.experimentVariant == 'control_2'].query(\"gender == 1\").query(\"product_type == ('premium_no_trial')\")\\\n",
    "                                           .groupby('uid', as_index=False).agg({\"revenue\": \"sum\"}).revenue.describe()"
   ]
  },
  {
   "cell_type": "code",
   "execution_count": 49,
   "metadata": {},
   "outputs": [
    {
     "data": {
      "text/plain": [
       "count    0.0\n",
       "mean     NaN\n",
       "std      NaN\n",
       "min      NaN\n",
       "25%      NaN\n",
       "50%      NaN\n",
       "75%      NaN\n",
       "max      NaN\n",
       "Name: revenue, dtype: float64"
      ]
     },
     "execution_count": 49,
     "metadata": {},
     "output_type": "execute_result"
    }
   ],
   "source": [
    "data[data.experimentVariant == 'test'].query(\"gender == 0\").query(\"product_type == ('premium_no_trial')\")\\\n",
    "                                      .groupby('uid', as_index=False).agg({\"revenue\": \"sum\"}).revenue.describe()"
   ]
  },
  {
   "cell_type": "code",
   "execution_count": 50,
   "metadata": {},
   "outputs": [
    {
     "data": {
      "text/plain": [
       "count        63.000000\n",
       "mean      12273.238095\n",
       "std       18848.251313\n",
       "min        1898.000000\n",
       "25%        6292.000000\n",
       "50%        8697.000000\n",
       "75%       12597.000000\n",
       "max      113477.000000\n",
       "Name: revenue, dtype: float64"
      ]
     },
     "execution_count": 50,
     "metadata": {},
     "output_type": "execute_result"
    }
   ],
   "source": [
    "data[data.experimentVariant == 'test'].query(\"gender == 1\").query(\"product_type == ('premium_no_trial')\")\\\n",
    "                                      .groupby('uid', as_index=False).agg({\"revenue\": \"sum\"}).revenue.describe()"
   ]
  },
  {
   "cell_type": "markdown",
   "metadata": {},
   "source": [
    "Из данных мы видим:\n",
    "* в группе control_2, 5 пользователей пол \"0\", которые купили премиум подписку, ARPU = 5080, а ARPU для пользователей пола \"1\" = 7463\n",
    "\n",
    "* в группе test, нет пользователей пол \"0\", которые купили премиум подписку, а ARPU для пользователей пола \"1\" = 12273\n",
    "\n",
    ">На мой взгляд, в данной ситуации далее можно не делать различия по полу, так как выборка для пола \"0\" слишком мала"
   ]
  },
  {
   "cell_type": "markdown",
   "metadata": {},
   "source": [
    "#### Посмотрим на ARPU по странам пользователей(берем только пользователей,которые купили премиум подписку)"
   ]
  },
  {
   "cell_type": "code",
   "execution_count": 51,
   "metadata": {},
   "outputs": [
    {
     "data": {
      "text/html": [
       "<div>\n",
       "<style scoped>\n",
       "    .dataframe tbody tr th:only-of-type {\n",
       "        vertical-align: middle;\n",
       "    }\n",
       "\n",
       "    .dataframe tbody tr th {\n",
       "        vertical-align: top;\n",
       "    }\n",
       "\n",
       "    .dataframe thead th {\n",
       "        text-align: right;\n",
       "    }\n",
       "</style>\n",
       "<table border=\"1\" class=\"dataframe\">\n",
       "  <thead>\n",
       "    <tr style=\"text-align: right;\">\n",
       "      <th></th>\n",
       "      <th>country</th>\n",
       "      <th>uid</th>\n",
       "      <th>revenue</th>\n",
       "      <th>arpu</th>\n",
       "    </tr>\n",
       "  </thead>\n",
       "  <tbody>\n",
       "    <tr>\n",
       "      <th>12</th>\n",
       "      <td>United Arab Emirates</td>\n",
       "      <td>4</td>\n",
       "      <td>99294</td>\n",
       "      <td>24823.500000</td>\n",
       "    </tr>\n",
       "    <tr>\n",
       "      <th>10</th>\n",
       "      <td>Spain</td>\n",
       "      <td>10</td>\n",
       "      <td>121732</td>\n",
       "      <td>12173.200000</td>\n",
       "    </tr>\n",
       "    <tr>\n",
       "      <th>1</th>\n",
       "      <td>Australia</td>\n",
       "      <td>1</td>\n",
       "      <td>9438</td>\n",
       "      <td>9438.000000</td>\n",
       "    </tr>\n",
       "    <tr>\n",
       "      <th>0</th>\n",
       "      <td>Argentina</td>\n",
       "      <td>7</td>\n",
       "      <td>50245</td>\n",
       "      <td>7177.857143</td>\n",
       "    </tr>\n",
       "    <tr>\n",
       "      <th>6</th>\n",
       "      <td>Germany</td>\n",
       "      <td>3</td>\n",
       "      <td>20501</td>\n",
       "      <td>6833.666667</td>\n",
       "    </tr>\n",
       "    <tr>\n",
       "      <th>2</th>\n",
       "      <td>Belgium</td>\n",
       "      <td>5</td>\n",
       "      <td>32695</td>\n",
       "      <td>6539.000000</td>\n",
       "    </tr>\n",
       "    <tr>\n",
       "      <th>13</th>\n",
       "      <td>United Kingdom (Great Britain)</td>\n",
       "      <td>9</td>\n",
       "      <td>58591</td>\n",
       "      <td>6510.111111</td>\n",
       "    </tr>\n",
       "    <tr>\n",
       "      <th>8</th>\n",
       "      <td>Italy</td>\n",
       "      <td>4</td>\n",
       "      <td>25623</td>\n",
       "      <td>6405.750000</td>\n",
       "    </tr>\n",
       "    <tr>\n",
       "      <th>7</th>\n",
       "      <td>Israel</td>\n",
       "      <td>2</td>\n",
       "      <td>12584</td>\n",
       "      <td>6292.000000</td>\n",
       "    </tr>\n",
       "    <tr>\n",
       "      <th>4</th>\n",
       "      <td>Chile</td>\n",
       "      <td>6</td>\n",
       "      <td>34632</td>\n",
       "      <td>5772.000000</td>\n",
       "    </tr>\n",
       "    <tr>\n",
       "      <th>14</th>\n",
       "      <td>United States of America</td>\n",
       "      <td>32</td>\n",
       "      <td>181675</td>\n",
       "      <td>5677.343750</td>\n",
       "    </tr>\n",
       "    <tr>\n",
       "      <th>5</th>\n",
       "      <td>France</td>\n",
       "      <td>8</td>\n",
       "      <td>43654</td>\n",
       "      <td>5456.750000</td>\n",
       "    </tr>\n",
       "    <tr>\n",
       "      <th>11</th>\n",
       "      <td>Switzerland</td>\n",
       "      <td>3</td>\n",
       "      <td>15847</td>\n",
       "      <td>5282.333333</td>\n",
       "    </tr>\n",
       "    <tr>\n",
       "      <th>9</th>\n",
       "      <td>Portugal</td>\n",
       "      <td>5</td>\n",
       "      <td>24336</td>\n",
       "      <td>4867.200000</td>\n",
       "    </tr>\n",
       "    <tr>\n",
       "      <th>3</th>\n",
       "      <td>Canada</td>\n",
       "      <td>1</td>\n",
       "      <td>3549</td>\n",
       "      <td>3549.000000</td>\n",
       "    </tr>\n",
       "  </tbody>\n",
       "</table>\n",
       "</div>"
      ],
      "text/plain": [
       "                           country  uid  revenue          arpu\n",
       "12            United Arab Emirates    4    99294  24823.500000\n",
       "10                           Spain   10   121732  12173.200000\n",
       "1                        Australia    1     9438   9438.000000\n",
       "0                        Argentina    7    50245   7177.857143\n",
       "6                          Germany    3    20501   6833.666667\n",
       "2                          Belgium    5    32695   6539.000000\n",
       "13  United Kingdom (Great Britain)    9    58591   6510.111111\n",
       "8                            Italy    4    25623   6405.750000\n",
       "7                           Israel    2    12584   6292.000000\n",
       "4                            Chile    6    34632   5772.000000\n",
       "14        United States of America   32   181675   5677.343750\n",
       "5                           France    8    43654   5456.750000\n",
       "11                     Switzerland    3    15847   5282.333333\n",
       "9                         Portugal    5    24336   4867.200000\n",
       "3                           Canada    1     3549   3549.000000"
      ]
     },
     "execution_count": 51,
     "metadata": {},
     "output_type": "execute_result"
    }
   ],
   "source": [
    "# тут я понала,нет разницы какой датафрейм использовать data[data.experimentVariant == 'control_2']\n",
    "# или control_2 и дальше для краткости обращалась к control_2\n",
    "ARPU_per_country_control_2 = control_2.query(\"product_type == ('premium_no_trial')\")\\\n",
    "                                      .groupby(['uid', 'country'], as_index=False)\\\n",
    "                                      .agg({\"revenue\": \"sum\"}).groupby('country', as_index=False)\\\n",
    "                                      .agg({'uid': 'count', \"revenue\": \"sum\"})\n",
    "ARPU_per_country_control_2['arpu'] = ARPU_per_country_control_2.revenue / ARPU_per_country_control_2.uid\n",
    "ARPU_per_country_control_2.sort_values('arpu', ascending=False)"
   ]
  },
  {
   "cell_type": "code",
   "execution_count": 52,
   "metadata": {},
   "outputs": [
    {
     "data": {
      "text/html": [
       "<div>\n",
       "<style scoped>\n",
       "    .dataframe tbody tr th:only-of-type {\n",
       "        vertical-align: middle;\n",
       "    }\n",
       "\n",
       "    .dataframe tbody tr th {\n",
       "        vertical-align: top;\n",
       "    }\n",
       "\n",
       "    .dataframe thead th {\n",
       "        text-align: right;\n",
       "    }\n",
       "</style>\n",
       "<table border=\"1\" class=\"dataframe\">\n",
       "  <thead>\n",
       "    <tr style=\"text-align: right;\">\n",
       "      <th></th>\n",
       "      <th>country</th>\n",
       "      <th>uid</th>\n",
       "      <th>revenue</th>\n",
       "      <th>arpu_test</th>\n",
       "    </tr>\n",
       "  </thead>\n",
       "  <tbody>\n",
       "    <tr>\n",
       "      <th>10</th>\n",
       "      <td>United Arab Emirates</td>\n",
       "      <td>6</td>\n",
       "      <td>163956</td>\n",
       "      <td>27326.000000</td>\n",
       "    </tr>\n",
       "    <tr>\n",
       "      <th>9</th>\n",
       "      <td>Spain</td>\n",
       "      <td>6</td>\n",
       "      <td>149513</td>\n",
       "      <td>24918.833333</td>\n",
       "    </tr>\n",
       "    <tr>\n",
       "      <th>1</th>\n",
       "      <td>Australia</td>\n",
       "      <td>1</td>\n",
       "      <td>12597</td>\n",
       "      <td>12597.000000</td>\n",
       "    </tr>\n",
       "    <tr>\n",
       "      <th>2</th>\n",
       "      <td>Belgium</td>\n",
       "      <td>1</td>\n",
       "      <td>12597</td>\n",
       "      <td>12597.000000</td>\n",
       "    </tr>\n",
       "    <tr>\n",
       "      <th>7</th>\n",
       "      <td>Israel</td>\n",
       "      <td>2</td>\n",
       "      <td>25194</td>\n",
       "      <td>12597.000000</td>\n",
       "    </tr>\n",
       "    <tr>\n",
       "      <th>4</th>\n",
       "      <td>Chile</td>\n",
       "      <td>4</td>\n",
       "      <td>49088</td>\n",
       "      <td>12272.000000</td>\n",
       "    </tr>\n",
       "    <tr>\n",
       "      <th>0</th>\n",
       "      <td>Argentina</td>\n",
       "      <td>5</td>\n",
       "      <td>49413</td>\n",
       "      <td>9882.600000</td>\n",
       "    </tr>\n",
       "    <tr>\n",
       "      <th>12</th>\n",
       "      <td>United States of America</td>\n",
       "      <td>18</td>\n",
       "      <td>165750</td>\n",
       "      <td>9208.333333</td>\n",
       "    </tr>\n",
       "    <tr>\n",
       "      <th>8</th>\n",
       "      <td>Italy</td>\n",
       "      <td>7</td>\n",
       "      <td>59202</td>\n",
       "      <td>8457.428571</td>\n",
       "    </tr>\n",
       "    <tr>\n",
       "      <th>3</th>\n",
       "      <td>Canada</td>\n",
       "      <td>3</td>\n",
       "      <td>24479</td>\n",
       "      <td>8159.666667</td>\n",
       "    </tr>\n",
       "    <tr>\n",
       "      <th>11</th>\n",
       "      <td>United Kingdom (Great Britain)</td>\n",
       "      <td>5</td>\n",
       "      <td>32331</td>\n",
       "      <td>6466.200000</td>\n",
       "    </tr>\n",
       "    <tr>\n",
       "      <th>5</th>\n",
       "      <td>France</td>\n",
       "      <td>3</td>\n",
       "      <td>18759</td>\n",
       "      <td>6253.000000</td>\n",
       "    </tr>\n",
       "    <tr>\n",
       "      <th>6</th>\n",
       "      <td>Germany</td>\n",
       "      <td>2</td>\n",
       "      <td>10335</td>\n",
       "      <td>5167.500000</td>\n",
       "    </tr>\n",
       "  </tbody>\n",
       "</table>\n",
       "</div>"
      ],
      "text/plain": [
       "                           country  uid  revenue     arpu_test\n",
       "10            United Arab Emirates    6   163956  27326.000000\n",
       "9                            Spain    6   149513  24918.833333\n",
       "1                        Australia    1    12597  12597.000000\n",
       "2                          Belgium    1    12597  12597.000000\n",
       "7                           Israel    2    25194  12597.000000\n",
       "4                            Chile    4    49088  12272.000000\n",
       "0                        Argentina    5    49413   9882.600000\n",
       "12        United States of America   18   165750   9208.333333\n",
       "8                            Italy    7    59202   8457.428571\n",
       "3                           Canada    3    24479   8159.666667\n",
       "11  United Kingdom (Great Britain)    5    32331   6466.200000\n",
       "5                           France    3    18759   6253.000000\n",
       "6                          Germany    2    10335   5167.500000"
      ]
     },
     "execution_count": 52,
     "metadata": {},
     "output_type": "execute_result"
    }
   ],
   "source": [
    "ARPU_per_country_test = test.query(\"product_type == ('premium_no_trial')\")\\\n",
    "                            .groupby(['uid', 'country'], as_index=False)\\\n",
    "                            .agg({\"revenue\": \"sum\"}).groupby('country', as_index=False)\\\n",
    "                            .agg({'uid': 'count', \"revenue\": \"sum\"})\n",
    "ARPU_per_country_test['arpu_test'] = ARPU_per_country_test.revenue / ARPU_per_country_test.uid\n",
    "ARPU_per_country_test.sort_values('arpu_test', ascending=False)"
   ]
  },
  {
   "cell_type": "code",
   "execution_count": 53,
   "metadata": {},
   "outputs": [],
   "source": [
    "a = ARPU_per_country_control_2.merge(ARPU_per_country_test, on='country', how='left')\n",
    "a = a.fillna(0)"
   ]
  },
  {
   "cell_type": "code",
   "execution_count": 54,
   "metadata": {},
   "outputs": [
    {
     "data": {
      "text/html": [
       "<div>\n",
       "<style scoped>\n",
       "    .dataframe tbody tr th:only-of-type {\n",
       "        vertical-align: middle;\n",
       "    }\n",
       "\n",
       "    .dataframe tbody tr th {\n",
       "        vertical-align: top;\n",
       "    }\n",
       "\n",
       "    .dataframe thead th {\n",
       "        text-align: right;\n",
       "    }\n",
       "</style>\n",
       "<table border=\"1\" class=\"dataframe\">\n",
       "  <thead>\n",
       "    <tr style=\"text-align: right;\">\n",
       "      <th></th>\n",
       "      <th>country</th>\n",
       "      <th>uid_x</th>\n",
       "      <th>revenue_x</th>\n",
       "      <th>arpu</th>\n",
       "      <th>uid_y</th>\n",
       "      <th>revenue_y</th>\n",
       "      <th>arpu_test</th>\n",
       "      <th>arpu_dif</th>\n",
       "    </tr>\n",
       "  </thead>\n",
       "  <tbody>\n",
       "    <tr>\n",
       "      <th>10</th>\n",
       "      <td>Spain</td>\n",
       "      <td>10</td>\n",
       "      <td>121732</td>\n",
       "      <td>12173.200000</td>\n",
       "      <td>6.0</td>\n",
       "      <td>149513.0</td>\n",
       "      <td>24918.833333</td>\n",
       "      <td>12745.633333</td>\n",
       "    </tr>\n",
       "    <tr>\n",
       "      <th>4</th>\n",
       "      <td>Chile</td>\n",
       "      <td>6</td>\n",
       "      <td>34632</td>\n",
       "      <td>5772.000000</td>\n",
       "      <td>4.0</td>\n",
       "      <td>49088.0</td>\n",
       "      <td>12272.000000</td>\n",
       "      <td>6500.000000</td>\n",
       "    </tr>\n",
       "    <tr>\n",
       "      <th>7</th>\n",
       "      <td>Israel</td>\n",
       "      <td>2</td>\n",
       "      <td>12584</td>\n",
       "      <td>6292.000000</td>\n",
       "      <td>2.0</td>\n",
       "      <td>25194.0</td>\n",
       "      <td>12597.000000</td>\n",
       "      <td>6305.000000</td>\n",
       "    </tr>\n",
       "    <tr>\n",
       "      <th>2</th>\n",
       "      <td>Belgium</td>\n",
       "      <td>5</td>\n",
       "      <td>32695</td>\n",
       "      <td>6539.000000</td>\n",
       "      <td>1.0</td>\n",
       "      <td>12597.0</td>\n",
       "      <td>12597.000000</td>\n",
       "      <td>6058.000000</td>\n",
       "    </tr>\n",
       "    <tr>\n",
       "      <th>3</th>\n",
       "      <td>Canada</td>\n",
       "      <td>1</td>\n",
       "      <td>3549</td>\n",
       "      <td>3549.000000</td>\n",
       "      <td>3.0</td>\n",
       "      <td>24479.0</td>\n",
       "      <td>8159.666667</td>\n",
       "      <td>4610.666667</td>\n",
       "    </tr>\n",
       "    <tr>\n",
       "      <th>14</th>\n",
       "      <td>United States of America</td>\n",
       "      <td>32</td>\n",
       "      <td>181675</td>\n",
       "      <td>5677.343750</td>\n",
       "      <td>18.0</td>\n",
       "      <td>165750.0</td>\n",
       "      <td>9208.333333</td>\n",
       "      <td>3530.989583</td>\n",
       "    </tr>\n",
       "    <tr>\n",
       "      <th>1</th>\n",
       "      <td>Australia</td>\n",
       "      <td>1</td>\n",
       "      <td>9438</td>\n",
       "      <td>9438.000000</td>\n",
       "      <td>1.0</td>\n",
       "      <td>12597.0</td>\n",
       "      <td>12597.000000</td>\n",
       "      <td>3159.000000</td>\n",
       "    </tr>\n",
       "    <tr>\n",
       "      <th>0</th>\n",
       "      <td>Argentina</td>\n",
       "      <td>7</td>\n",
       "      <td>50245</td>\n",
       "      <td>7177.857143</td>\n",
       "      <td>5.0</td>\n",
       "      <td>49413.0</td>\n",
       "      <td>9882.600000</td>\n",
       "      <td>2704.742857</td>\n",
       "    </tr>\n",
       "    <tr>\n",
       "      <th>12</th>\n",
       "      <td>United Arab Emirates</td>\n",
       "      <td>4</td>\n",
       "      <td>99294</td>\n",
       "      <td>24823.500000</td>\n",
       "      <td>6.0</td>\n",
       "      <td>163956.0</td>\n",
       "      <td>27326.000000</td>\n",
       "      <td>2502.500000</td>\n",
       "    </tr>\n",
       "    <tr>\n",
       "      <th>8</th>\n",
       "      <td>Italy</td>\n",
       "      <td>4</td>\n",
       "      <td>25623</td>\n",
       "      <td>6405.750000</td>\n",
       "      <td>7.0</td>\n",
       "      <td>59202.0</td>\n",
       "      <td>8457.428571</td>\n",
       "      <td>2051.678571</td>\n",
       "    </tr>\n",
       "    <tr>\n",
       "      <th>5</th>\n",
       "      <td>France</td>\n",
       "      <td>8</td>\n",
       "      <td>43654</td>\n",
       "      <td>5456.750000</td>\n",
       "      <td>3.0</td>\n",
       "      <td>18759.0</td>\n",
       "      <td>6253.000000</td>\n",
       "      <td>796.250000</td>\n",
       "    </tr>\n",
       "    <tr>\n",
       "      <th>13</th>\n",
       "      <td>United Kingdom (Great Britain)</td>\n",
       "      <td>9</td>\n",
       "      <td>58591</td>\n",
       "      <td>6510.111111</td>\n",
       "      <td>5.0</td>\n",
       "      <td>32331.0</td>\n",
       "      <td>6466.200000</td>\n",
       "      <td>-43.911111</td>\n",
       "    </tr>\n",
       "    <tr>\n",
       "      <th>6</th>\n",
       "      <td>Germany</td>\n",
       "      <td>3</td>\n",
       "      <td>20501</td>\n",
       "      <td>6833.666667</td>\n",
       "      <td>2.0</td>\n",
       "      <td>10335.0</td>\n",
       "      <td>5167.500000</td>\n",
       "      <td>-1666.166667</td>\n",
       "    </tr>\n",
       "    <tr>\n",
       "      <th>9</th>\n",
       "      <td>Portugal</td>\n",
       "      <td>5</td>\n",
       "      <td>24336</td>\n",
       "      <td>4867.200000</td>\n",
       "      <td>0.0</td>\n",
       "      <td>0.0</td>\n",
       "      <td>0.000000</td>\n",
       "      <td>-4867.200000</td>\n",
       "    </tr>\n",
       "    <tr>\n",
       "      <th>11</th>\n",
       "      <td>Switzerland</td>\n",
       "      <td>3</td>\n",
       "      <td>15847</td>\n",
       "      <td>5282.333333</td>\n",
       "      <td>0.0</td>\n",
       "      <td>0.0</td>\n",
       "      <td>0.000000</td>\n",
       "      <td>-5282.333333</td>\n",
       "    </tr>\n",
       "  </tbody>\n",
       "</table>\n",
       "</div>"
      ],
      "text/plain": [
       "                           country  uid_x  revenue_x          arpu  uid_y  \\\n",
       "10                           Spain     10     121732  12173.200000    6.0   \n",
       "4                            Chile      6      34632   5772.000000    4.0   \n",
       "7                           Israel      2      12584   6292.000000    2.0   \n",
       "2                          Belgium      5      32695   6539.000000    1.0   \n",
       "3                           Canada      1       3549   3549.000000    3.0   \n",
       "14        United States of America     32     181675   5677.343750   18.0   \n",
       "1                        Australia      1       9438   9438.000000    1.0   \n",
       "0                        Argentina      7      50245   7177.857143    5.0   \n",
       "12            United Arab Emirates      4      99294  24823.500000    6.0   \n",
       "8                            Italy      4      25623   6405.750000    7.0   \n",
       "5                           France      8      43654   5456.750000    3.0   \n",
       "13  United Kingdom (Great Britain)      9      58591   6510.111111    5.0   \n",
       "6                          Germany      3      20501   6833.666667    2.0   \n",
       "9                         Portugal      5      24336   4867.200000    0.0   \n",
       "11                     Switzerland      3      15847   5282.333333    0.0   \n",
       "\n",
       "    revenue_y     arpu_test      arpu_dif  \n",
       "10   149513.0  24918.833333  12745.633333  \n",
       "4     49088.0  12272.000000   6500.000000  \n",
       "7     25194.0  12597.000000   6305.000000  \n",
       "2     12597.0  12597.000000   6058.000000  \n",
       "3     24479.0   8159.666667   4610.666667  \n",
       "14   165750.0   9208.333333   3530.989583  \n",
       "1     12597.0  12597.000000   3159.000000  \n",
       "0     49413.0   9882.600000   2704.742857  \n",
       "12   163956.0  27326.000000   2502.500000  \n",
       "8     59202.0   8457.428571   2051.678571  \n",
       "5     18759.0   6253.000000    796.250000  \n",
       "13    32331.0   6466.200000    -43.911111  \n",
       "6     10335.0   5167.500000  -1666.166667  \n",
       "9         0.0      0.000000  -4867.200000  \n",
       "11        0.0      0.000000  -5282.333333  "
      ]
     },
     "execution_count": 54,
     "metadata": {},
     "output_type": "execute_result"
    }
   ],
   "source": [
    "a['arpu_dif'] = a.arpu_test - a.arpu\n",
    "a.sort_values('arpu_dif', ascending=False)"
   ]
  },
  {
   "cell_type": "markdown",
   "metadata": {},
   "source": [
    "Из данных выше мы можем понять в каких страннах ARPU поднялось сильнее, а в каких уменьшилось. Но не стоит забывать, что в общем ARPU повысилось.\n",
    "\n",
    ">Я бы сказала, что новая система оплаты особенно увеличила затраты пользователей из Испании, Чили,Израиля и Бельгии\n",
    "но понизила затраты пользователей из Швейцарии, Португалии и Германии"
   ]
  },
  {
   "cell_type": "markdown",
   "metadata": {},
   "source": [
    "#### Посмотрим на ARPU пользователей в зависимости от числа полученных оценок\n",
    "сначала посмотрим на количество оценок по квантилям и разобьем пользователей каждой группы на три типа"
   ]
  },
  {
   "cell_type": "code",
   "execution_count": 55,
   "metadata": {},
   "outputs": [
    {
     "data": {
      "text/plain": [
       "count      317.000000\n",
       "mean       281.236593\n",
       "std       1020.536880\n",
       "min          0.000000\n",
       "25%         21.000000\n",
       "50%         73.000000\n",
       "75%        212.000000\n",
       "max      16157.000000\n",
       "Name: views_count, dtype: float64"
      ]
     },
     "execution_count": 55,
     "metadata": {},
     "output_type": "execute_result"
    }
   ],
   "source": [
    "control_2.views_count.describe()"
   ]
  },
  {
   "cell_type": "code",
   "execution_count": 56,
   "metadata": {},
   "outputs": [
    {
     "data": {
      "text/plain": [
       "count     255.000000\n",
       "mean      200.745098\n",
       "std       317.037334\n",
       "min         0.000000\n",
       "25%        30.000000\n",
       "50%        86.000000\n",
       "75%       219.000000\n",
       "max      1326.000000\n",
       "Name: views_count, dtype: float64"
      ]
     },
     "execution_count": 56,
     "metadata": {},
     "output_type": "execute_result"
    }
   ],
   "source": [
    "test.views_count.describe()"
   ]
  },
  {
   "cell_type": "markdown",
   "metadata": {},
   "source": [
    "Посчитаем ARPU пользователей(купивших премиум), у которых `[0-25]` оценок, `[26-77]`, `[78-210]`, и больше `210` оценок"
   ]
  },
  {
   "cell_type": "code",
   "execution_count": 57,
   "metadata": {},
   "outputs": [
    {
     "data": {
      "text/plain": [
       "count       35.000000\n",
       "mean      5366.400000\n",
       "std       1926.942384\n",
       "min       1482.000000\n",
       "25%       4537.000000\n",
       "50%       5278.000000\n",
       "75%       6292.000000\n",
       "max      10413.000000\n",
       "Name: revenue, dtype: float64"
      ]
     },
     "execution_count": 57,
     "metadata": {},
     "output_type": "execute_result"
    }
   ],
   "source": [
    "control_2.query(\"product_type == ('premium_no_trial')\").query('views_count <= 25')\\\n",
    "                                                       .groupby('uid', as_index=False)\\\n",
    "                                                       .agg({\"revenue\": \"sum\"}).revenue.describe()"
   ]
  },
  {
   "cell_type": "code",
   "execution_count": 58,
   "metadata": {},
   "outputs": [
    {
     "data": {
      "text/plain": [
       "count       15.00000\n",
       "mean      7589.40000\n",
       "std       2986.54695\n",
       "min       4537.00000\n",
       "25%       5024.50000\n",
       "50%       7371.00000\n",
       "75%       8632.00000\n",
       "max      12597.00000\n",
       "Name: revenue, dtype: float64"
      ]
     },
     "execution_count": 58,
     "metadata": {},
     "output_type": "execute_result"
    }
   ],
   "source": [
    "test.query(\"product_type == ('premium_no_trial')\").query('views_count <= 25')\\\n",
    "                                                  .groupby('uid', as_index=False)\\\n",
    "                                                  .agg({\"revenue\": \"sum\"}).revenue.describe()"
   ]
  },
  {
   "cell_type": "code",
   "execution_count": 59,
   "metadata": {},
   "outputs": [
    {
     "data": {
      "text/plain": [
       "count       31.000000\n",
       "mean     10400.000000\n",
       "std      16797.868395\n",
       "min       3900.000000\n",
       "25%       5011.500000\n",
       "50%       6292.000000\n",
       "75%       6376.500000\n",
       "max      81796.000000\n",
       "Name: revenue, dtype: float64"
      ]
     },
     "execution_count": 59,
     "metadata": {},
     "output_type": "execute_result"
    }
   ],
   "source": [
    "control_2.query(\"product_type == ('premium_no_trial')\").query('77 >= views_count >= 26')\\\n",
    "                                                       .groupby('uid', as_index=False)\\\n",
    "                                                       .agg({\"revenue\": \"sum\"}).revenue.describe()"
   ]
  },
  {
   "cell_type": "code",
   "execution_count": 60,
   "metadata": {},
   "outputs": [
    {
     "data": {
      "text/plain": [
       "count       20.000000\n",
       "mean      8799.050000\n",
       "std       3325.153095\n",
       "min       1898.000000\n",
       "25%       6292.000000\n",
       "50%       8684.000000\n",
       "75%      12597.000000\n",
       "max      12597.000000\n",
       "Name: revenue, dtype: float64"
      ]
     },
     "execution_count": 60,
     "metadata": {},
     "output_type": "execute_result"
    }
   ],
   "source": [
    "test.query(\"product_type == ('premium_no_trial')\").query('77 >= views_count >= 26')\\\n",
    "                                                  .groupby('uid', as_index=False)\\\n",
    "                                                  .agg({\"revenue\": \"sum\"}).revenue.describe()"
   ]
  },
  {
   "cell_type": "code",
   "execution_count": 61,
   "metadata": {},
   "outputs": [
    {
     "data": {
      "text/plain": [
       "count       17.000000\n",
       "mean      7024.588235\n",
       "std       2499.099714\n",
       "min       4537.000000\n",
       "25%       6292.000000\n",
       "50%       6292.000000\n",
       "75%       6435.000000\n",
       "max      15457.000000\n",
       "Name: revenue, dtype: float64"
      ]
     },
     "execution_count": 61,
     "metadata": {},
     "output_type": "execute_result"
    }
   ],
   "source": [
    "control_2.query(\"product_type == ('premium_no_trial')\").query('210 >= views_count >= 78')\\\n",
    "                                                       .groupby('uid', as_index=False)\\\n",
    "                                                       .agg({\"revenue\": \"sum\"}).revenue.describe()"
   ]
  },
  {
   "cell_type": "code",
   "execution_count": 62,
   "metadata": {},
   "outputs": [
    {
     "data": {
      "text/plain": [
       "count       19.000000\n",
       "mean     10545.736842\n",
       "std       4753.071298\n",
       "min       3562.000000\n",
       "25%       8014.500000\n",
       "50%       9217.000000\n",
       "75%      12597.000000\n",
       "max      24531.000000\n",
       "Name: revenue, dtype: float64"
      ]
     },
     "execution_count": 62,
     "metadata": {},
     "output_type": "execute_result"
    }
   ],
   "source": [
    "test.query(\"product_type == ('premium_no_trial')\").query('210 >= views_count >= 78')\\\n",
    "                                                  .groupby('uid', as_index=False)\\\n",
    "                                                  .agg({\"revenue\": \"sum\"}).revenue.describe()"
   ]
  },
  {
   "cell_type": "code",
   "execution_count": 63,
   "metadata": {},
   "outputs": [
    {
     "data": {
      "text/plain": [
       "count       17.000000\n",
       "mean      6162.000000\n",
       "std       2128.549036\n",
       "min       3588.000000\n",
       "25%       4693.000000\n",
       "50%       6292.000000\n",
       "75%       6292.000000\n",
       "max      12688.000000\n",
       "Name: revenue, dtype: float64"
      ]
     },
     "execution_count": 63,
     "metadata": {},
     "output_type": "execute_result"
    }
   ],
   "source": [
    "control_2.query(\"product_type == ('premium_no_trial')\").query('views_count > 210')\\\n",
    "                                                       .groupby('uid', as_index=False)\\\n",
    "                                                       .agg({\"revenue\": \"sum\"}).revenue.describe()"
   ]
  },
  {
   "cell_type": "code",
   "execution_count": 64,
   "metadata": {},
   "outputs": [
    {
     "data": {
      "text/plain": [
       "count         9.000000\n",
       "mean      31447.000000\n",
       "std       46567.739289\n",
       "min        3835.000000\n",
       "25%        7176.000000\n",
       "50%        8697.000000\n",
       "75%       12597.000000\n",
       "max      113477.000000\n",
       "Name: revenue, dtype: float64"
      ]
     },
     "execution_count": 64,
     "metadata": {},
     "output_type": "execute_result"
    }
   ],
   "source": [
    "test.query(\"product_type == ('premium_no_trial')\").query('views_count > 210')\\\n",
    "                                                  .groupby('uid', as_index=False)\\\n",
    "                                                  .agg({\"revenue\": \"sum\"}).revenue.describe()"
   ]
  },
  {
   "cell_type": "markdown",
   "metadata": {},
   "source": [
    "Получились такие ARPU:\n",
    "**группа [0-25] оценок** \n",
    "* control_2 = 5366 , \n",
    "* test = 7589 .\n",
    "\n",
    "**группа[26-77]** \n",
    "* control_2 = 10400 , \n",
    "* test = 8799 .\n",
    "\n",
    "**группа [78-210]**\n",
    "* control_2 = 7025 , \n",
    "* test = 10546 .\n",
    "\n",
    "**группа больше 210 оценок** \n",
    "* control_2 = 6162  , \n",
    "* test = 31447 .\n",
    "\n",
    "> Из полученных данных можно заметить, что новый вариант оплаты увеличил ARPU для всех групп, кроме группы [26-77] , но для группы больше 210 более значительно."
   ]
  },
  {
   "cell_type": "markdown",
   "metadata": {},
   "source": [
    "#### Cделаем тоже самое, но с разделением на возрастные группы"
   ]
  },
  {
   "cell_type": "code",
   "execution_count": 65,
   "metadata": {},
   "outputs": [
    {
     "data": {
      "text/plain": [
       "count    317.000000\n",
       "mean      32.170347\n",
       "std        9.784837\n",
       "min       16.000000\n",
       "25%       25.000000\n",
       "50%       29.000000\n",
       "75%       39.000000\n",
       "max       55.000000\n",
       "Name: age, dtype: float64"
      ]
     },
     "execution_count": 65,
     "metadata": {},
     "output_type": "execute_result"
    }
   ],
   "source": [
    "control_2.age.describe()"
   ]
  },
  {
   "cell_type": "code",
   "execution_count": 66,
   "metadata": {},
   "outputs": [
    {
     "data": {
      "text/plain": [
       "count    255.000000\n",
       "mean      31.788235\n",
       "std        8.468693\n",
       "min       17.000000\n",
       "25%       25.000000\n",
       "50%       32.000000\n",
       "75%       37.000000\n",
       "max       55.000000\n",
       "Name: age, dtype: float64"
      ]
     },
     "execution_count": 66,
     "metadata": {},
     "output_type": "execute_result"
    }
   ],
   "source": [
    "test.age.describe()"
   ]
  },
  {
   "cell_type": "markdown",
   "metadata": {},
   "source": [
    "Посчитаем ARPU пользоветелей(купивших премиум), у которым меньше 25 лет, [26-31], [32-37], и больше 37 лет"
   ]
  },
  {
   "cell_type": "code",
   "execution_count": 67,
   "metadata": {},
   "outputs": [
    {
     "data": {
      "text/plain": [
       "count       32.000000\n",
       "mean      6305.406250\n",
       "std       1764.164553\n",
       "min       3900.000000\n",
       "25%       4719.000000\n",
       "50%       6292.000000\n",
       "75%       6441.500000\n",
       "max      10608.000000\n",
       "Name: revenue, dtype: float64"
      ]
     },
     "execution_count": 67,
     "metadata": {},
     "output_type": "execute_result"
    }
   ],
   "source": [
    "control_2.query(\"product_type == ('premium_no_trial')\").query('age <= 25')\\\n",
    "                                                       .groupby('uid', as_index=False)\\\n",
    "                                                       .agg({\"revenue\": \"sum\"}).revenue.describe()"
   ]
  },
  {
   "cell_type": "code",
   "execution_count": 68,
   "metadata": {},
   "outputs": [
    {
     "data": {
      "text/plain": [
       "count       20.000000\n",
       "mean      9207.900000\n",
       "std       4297.571675\n",
       "min       4537.000000\n",
       "25%       7101.250000\n",
       "50%       8632.000000\n",
       "75%       9298.250000\n",
       "max      24531.000000\n",
       "Name: revenue, dtype: float64"
      ]
     },
     "execution_count": 68,
     "metadata": {},
     "output_type": "execute_result"
    }
   ],
   "source": [
    "test.query(\"product_type == ('premium_no_trial')\").query('age <= 25')\\\n",
    "                                                  .groupby('uid', as_index=False)\\\n",
    "                                                  .agg({\"revenue\": \"sum\"}).revenue.describe()"
   ]
  },
  {
   "cell_type": "code",
   "execution_count": 69,
   "metadata": {},
   "outputs": [
    {
     "data": {
      "text/plain": [
       "count       34.000000\n",
       "mean      9200.558824\n",
       "std      16375.158929\n",
       "min       1482.000000\n",
       "25%       3734.250000\n",
       "50%       6292.000000\n",
       "75%       6292.000000\n",
       "max      81796.000000\n",
       "Name: revenue, dtype: float64"
      ]
     },
     "execution_count": 69,
     "metadata": {},
     "output_type": "execute_result"
    }
   ],
   "source": [
    "control_2.query(\"product_type == ('premium_no_trial')\").query('26 <= age <= 31')\\\n",
    "                                                       .groupby('uid', as_index=False)\\\n",
    "                                                       .agg({\"revenue\": \"sum\"}).revenue.describe()"
   ]
  },
  {
   "cell_type": "code",
   "execution_count": 70,
   "metadata": {},
   "outputs": [
    {
     "data": {
      "text/plain": [
       "count         9.000000\n",
       "mean      21723.000000\n",
       "std       34672.695028\n",
       "min        4706.000000\n",
       "25%        8268.000000\n",
       "50%       11609.000000\n",
       "75%       12597.000000\n",
       "max      113477.000000\n",
       "Name: revenue, dtype: float64"
      ]
     },
     "execution_count": 70,
     "metadata": {},
     "output_type": "execute_result"
    }
   ],
   "source": [
    "test.query(\"product_type == ('premium_no_trial')\").query('26 <= age <= 31')\\\n",
    "                                                  .groupby('uid', as_index=False)\\\n",
    "                                                  .agg({\"revenue\": \"sum\"}).revenue.describe()"
   ]
  },
  {
   "cell_type": "code",
   "execution_count": 71,
   "metadata": {},
   "outputs": [
    {
     "data": {
      "text/plain": [
       "count      14.000000\n",
       "mean     5938.214286\n",
       "std      1175.035592\n",
       "min      4095.000000\n",
       "25%      4836.000000\n",
       "50%      6292.000000\n",
       "75%      6292.000000\n",
       "max      7969.000000\n",
       "Name: revenue, dtype: float64"
      ]
     },
     "execution_count": 71,
     "metadata": {},
     "output_type": "execute_result"
    }
   ],
   "source": [
    "control_2.query(\"product_type == ('premium_no_trial')\").query('32 <= age <= 37')\\\n",
    "                                                       .groupby('uid', as_index=False)\\\n",
    "                                                       .agg({\"revenue\": \"sum\"}).revenue.describe()"
   ]
  },
  {
   "cell_type": "code",
   "execution_count": 72,
   "metadata": {
    "scrolled": true
   },
   "outputs": [
    {
     "data": {
      "text/plain": [
       "count       18.000000\n",
       "mean      8239.833333\n",
       "std       3150.437379\n",
       "min       3562.000000\n",
       "25%       6301.750000\n",
       "50%       7800.000000\n",
       "75%      11752.000000\n",
       "max      12597.000000\n",
       "Name: revenue, dtype: float64"
      ]
     },
     "execution_count": 72,
     "metadata": {},
     "output_type": "execute_result"
    }
   ],
   "source": [
    "test.query(\"product_type == ('premium_no_trial')\").query('32 <= age <= 37')\\\n",
    "                                                  .groupby('uid', as_index=False)\\\n",
    "                                                  .agg({\"revenue\": \"sum\"}).revenue.describe()"
   ]
  },
  {
   "cell_type": "code",
   "execution_count": 73,
   "metadata": {},
   "outputs": [
    {
     "data": {
      "text/plain": [
       "count       20.000000\n",
       "mean      6833.450000\n",
       "std       1888.539354\n",
       "min       4537.000000\n",
       "25%       6292.000000\n",
       "50%       6292.000000\n",
       "75%       6480.500000\n",
       "max      12688.000000\n",
       "Name: revenue, dtype: float64"
      ]
     },
     "execution_count": 73,
     "metadata": {},
     "output_type": "execute_result"
    }
   ],
   "source": [
    "control_2.query(\"product_type == ('premium_no_trial')\").query('age > 37')\\\n",
    "                                                       .groupby('uid', as_index=False)\\\n",
    "                                                       .agg({\"revenue\": \"sum\"}).revenue.describe()"
   ]
  },
  {
   "cell_type": "code",
   "execution_count": 74,
   "metadata": {},
   "outputs": [
    {
     "data": {
      "text/plain": [
       "count        16.000000\n",
       "mean      15327.000000\n",
       "std       26400.824709\n",
       "min        1898.000000\n",
       "25%        6292.000000\n",
       "50%        9399.000000\n",
       "75%       12597.000000\n",
       "max      113477.000000\n",
       "Name: revenue, dtype: float64"
      ]
     },
     "execution_count": 74,
     "metadata": {},
     "output_type": "execute_result"
    }
   ],
   "source": [
    "test.query(\"product_type == ('premium_no_trial')\").query('age > 37')\\\n",
    "                                                  .groupby('uid', as_index=False)\\\n",
    "                                                  .agg({\"revenue\": \"sum\"}).revenue.describe()"
   ]
  },
  {
   "cell_type": "markdown",
   "metadata": {},
   "source": [
    "Получились такие ARPU:\n",
    "\n",
    "**группа меньше 25 лет:** \n",
    "* control_2 = 6305 , \n",
    "* test = 9208.\n",
    "\n",
    "**группа[26-31]**\n",
    "* control_2 = 9200 , \n",
    "* test = 21723 .\n",
    "\n",
    "**группа [32-37]**\n",
    "* control_2 = 5938 , \n",
    "* test = 8240 .\n",
    "\n",
    "**группа больше 37 лет** \n",
    "* control_2 = 6833 , \n",
    "* test = 12597 .\n",
    "\n",
    ">Из этих данных видно, что ARPU для тестойвой группы увеличилось во всех группах, кроме группы меньше 25 лет."
   ]
  },
  {
   "cell_type": "markdown",
   "metadata": {},
   "source": [
    "Так же можно посмотреть на коэффициент корелляции.\n",
    "Зависимость выручки не со всеми столбцами нам интересна, поэтому смотрим только на столбцы\n",
    "age,attraction_coeff,views_count"
   ]
  },
  {
   "cell_type": "code",
   "execution_count": 75,
   "metadata": {},
   "outputs": [
    {
     "data": {
      "text/plain": [
       "total_revenue       1.000000\n",
       "revenue             0.842703\n",
       "is_premium          0.164621\n",
       "age                 0.120235\n",
       "uid                 0.117518\n",
       "gender              0.106752\n",
       "views_count        -0.024512\n",
       "attraction_coeff   -0.055232\n",
       "was_premium              NaN\n",
       "Name: total_revenue, dtype: float64"
      ]
     },
     "execution_count": 75,
     "metadata": {},
     "output_type": "execute_result"
    }
   ],
   "source": [
    "# я взяла только пользователей купивших премиум и посмотрела с чем сильнее всего всязана выручка\n",
    "data[data.experimentVariant == 'control_2'].query(\"product_type == 'premium_no_trial'\")\\\n",
    "                                           .corr()['total_revenue'].sort_values(ascending=False)"
   ]
  },
  {
   "cell_type": "code",
   "execution_count": 76,
   "metadata": {},
   "outputs": [
    {
     "data": {
      "text/plain": [
       "total_revenue       1.000000\n",
       "revenue             0.802120\n",
       "views_count         0.434638\n",
       "is_premium          0.119680\n",
       "age                -0.044102\n",
       "uid                -0.067652\n",
       "attraction_coeff   -0.130144\n",
       "gender                   NaN\n",
       "was_premium              NaN\n",
       "Name: total_revenue, dtype: float64"
      ]
     },
     "execution_count": 76,
     "metadata": {},
     "output_type": "execute_result"
    }
   ],
   "source": [
    "data[data.experimentVariant == 'test'].query(\"product_type == 'premium_no_trial'\")\\\n",
    "                                      .corr()['total_revenue'].sort_values(ascending=False)"
   ]
  },
  {
   "cell_type": "markdown",
   "metadata": {},
   "source": [
    "## Итоговые выводы: \n",
    "Экперимент успешен в целом,новый способ оплаты приносит больше денег компании\n",
    "(возможно стоит сделать тесты по более узким группам и посмотреть на результат).\n",
    "\n",
    ">На мой взгляд наибольший положительный эффект от новых способов оплаты ощутили пользователи с количеством оценок больше 210 оценок (скорее всего это лояльные пользователи, которые людят приложение и хорошо отностятся к его незначительным изменениям). Все возрастные группы, кроме людей младше 25 лет, хорошо отнеслись к изменению оплаты (увеличили свои траты в приложении), возможно, это связано с платежными системами.Так же ARPU сильно увеличилась в таких странах, как: Испания, Чили,Израиль и Бельгия. Это так же может быть связано с популярностью карт(платежных систем), которые используют в разных странах."
   ]
  }
 ],
 "metadata": {
  "kernelspec": {
   "display_name": "Python 3",
   "language": "python",
   "name": "python3"
  },
  "language_info": {
   "codemirror_mode": {
    "name": "ipython",
    "version": 3
   },
   "file_extension": ".py",
   "mimetype": "text/x-python",
   "name": "python",
   "nbconvert_exporter": "python",
   "pygments_lexer": "ipython3",
   "version": "3.8.8"
  }
 },
 "nbformat": 4,
 "nbformat_minor": 4
}
