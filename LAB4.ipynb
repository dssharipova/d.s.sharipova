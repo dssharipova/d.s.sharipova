{
 "cells": [
  {
   "cell_type": "code",
   "execution_count": null,
   "metadata": {},
   "outputs": [],
   "source": [
    "import os\n",
    "import sys\n",
    "os.environ[\"PYSPARK_PYTHON\"]='/opt/anaconda/envs/bd9/bin/python'\n",
    "os.environ[\"SPARK_HOME\"]='/usr/hdp/current/spark2-client'\n",
    "os.environ[\"PYSPARK_SUBMIT_ARGS\"]='--num-executors 2 pyspark-shell'\n",
    "\n",
    "spark_home = os.environ.get('SPARK_HOME', None)\n",
    "if not spark_home:\n",
    "    raise ValueError('SPARK_HOME environment variable is not set')\n",
    "\n",
    "sys.path.insert(0, os.path.join(spark_home, 'python'))\n",
    "sys.path.insert(0, os.path.join(spark_home, 'python/lib/py4j-0.10.7-src.zip'))\n",
    "exec(open(os.path.join(spark_home, 'python/pyspark/shell.py')).read())"
   ]
  },
  {
   "cell_type": "code",
   "execution_count": null,
   "metadata": {},
   "outputs": [],
   "source": [
    "from pyspark import SparkConf\n",
    "from pyspark.sql import SparkSession\n",
    "from pyspark.sql import functions as F\n",
    "from pyspark.sql.types import *\n",
    "from pyspark import Row\n",
    "import json\n",
    "from pyspark.sql.functions import udf\n",
    "from pyspark.sql.types import IntegerType\n",
    "from pyspark.ml.feature import CountVectorizerModel\n",
    "from pyspark.ml.classification import RandomForestClassificationModel\n",
    "\n",
    "\n",
    "\n",
    "conf = SparkConf()\n",
    "\n",
    "spark = (SparkSession\n",
    "         .builder\n",
    "         .enableHiveSupport()\n",
    "         .config(conf=conf)\n",
    "         .appName(\"dash\")\n",
    "         .getOrCreate())"
   ]
  },
  {
   "cell_type": "code",
   "execution_count": null,
   "metadata": {},
   "outputs": [],
   "source": [
    "vectorizer_model = CountVectorizerModel.load(\"/user/daria.sharipova/lab04_vectorizer_model\")\n",
    "gender_classifier_model = RandomForestClassificationModel.load(\"/user/daria.sharipova/lab04_gender_model\")\n",
    "age_classifier_model = RandomForestClassificationModel.load(\"/user/daria.sharipova/lab04_age_model\")"
   ]
  },
  {
   "cell_type": "code",
   "execution_count": null,
   "metadata": {},
   "outputs": [],
   "source": [
    "read_kafka_params = {\n",
    "    'kafka.bootstrap.servers': 'spark-master-1.newprolab.com:6667',\n",
    "    'subscribe': 'input_daria.sharipova',\n",
    "    'startingOffsets': 'latest',\n",
    "    'failOnDataLoss': 'False'\n",
    "}\n",
    "kafka_sdf = spark.readStream.format('kafka').options(**read_kafka_params).load()\n",
    "event_schema = StructType([\n",
    "    StructField('uid', StringType()),\n",
    "    StructField('visits', StringType())\n",
    "])\n",
    "visits_schema = ArrayType(\n",
    "    StructType([\n",
    "        StructField('url', StringType()),\n",
    "        StructField('timestamp', LongType())\n",
    "    ])\n",
    ")"
   ]
  },
  {
   "cell_type": "code",
   "execution_count": null,
   "metadata": {},
   "outputs": [],
   "source": [
    "stream_df = kafka_sdf.withColumn('value', F.col('value').cast('string'))\n",
    "stream_df = stream_df.withColumn('event', F.from_json('value', event_schema))\n",
    "stream_df = stream_df.withColumn('uid', F.col('event')['uid'])\n",
    "stream_df = stream_df.withColumn('user_json', F.col('event')['visits'])\n",
    "stream_df = stream_df.withColumn('user_json', F.from_json('user_json', visits_schema))\n",
    "\n",
    "# Определение функции для парсинга URL\n",
    "def parse_url(url):\n",
    "    try:\n",
    "        return urlparse(url).hostname\n",
    "    except:\n",
    "        return None\n",
    "\n",
    "# Регистрация функции как UDF\n",
    "parse_url_udf = udf(parse_url, StringType())\n",
    "\n",
    "stream_df = stream_df.withColumn('visit', F.explode('user_json'))\n",
    "stream_df = stream_df.withColumn('visit_url', F.col('visit')['url'])\n",
    "stream_df = stream_df.withColumn('parsed_visit_url', parse_url_udf('visit_url'))\n",
    "\n",
    "stream_df = stream_df\\\n",
    "    .groupBy('uid')\\\n",
    "    .agg(\n",
    "        F.collect_list('parsed_visit_url').alias('visits_urls')\n",
    ")\n",
    "\n",
    "stream_df = vectorizer_model.transform(stream_df)\n",
    "stream_df = gender_classifier_model.transform(stream_df)\n",
    "stream_df = age_classifier_model.transform(stream_df)"
   ]
  },
  {
   "cell_type": "code",
   "execution_count": null,
   "metadata": {},
   "outputs": [],
   "source": [
    "# Определение UDF для декодирования пола\n",
    "def decode_gender(gender):\n",
    "    return 'F' if gender == 0 else 'M'\n",
    "\n",
    "# Определение UDF для декодирования возраста\n",
    "def decode_age(age):\n",
    "    if age == 0:\n",
    "        return '18-24'\n",
    "    elif age == 1:\n",
    "        return '25-34'\n",
    "    elif age == 2:\n",
    "        return '35-44'\n",
    "    elif age == 3:\n",
    "        return '45-54'\n",
    "    else:\n",
    "        return '55+'\n",
    "\n",
    "# Регистрация UDF\n",
    "decode_gender_udf = udf(decode_gender, StringType())\n",
    "decode_age_udf = udf(decode_age, StringType()) \n",
    "    \n",
    "stream_df = stream_df.withColumn('gender', decode_gender_udf('gender_prediction'))\n",
    "stream_df = stream_df.withColumn('age', decode_age_udf('age_prediction'))\n",
    "\n",
    "stream_df = stream_df[['uid', 'gender', 'age']]"
   ]
  },
  {
   "cell_type": "code",
   "execution_count": null,
   "metadata": {},
   "outputs": [],
   "source": [
    "predictions_df = stream_df\\\n",
    "    .select(F.to_json(F.struct(*stream_df.columns)).alias('value'))\n",
    "\n",
    "write_kafka_params = {\n",
    "   'kafka.bootstrap.servers': 'spark-master-1.newprolab.com:6667',\n",
    "   'topic': 'daria.sharipova'\n",
    "}\n",
    "streaming_query = predictions_df.writeStream.format('kafka').options(**write_kafka_params)\\\n",
    "    .option('checkpointLocation', 'checkpoints/checkpoints_lab04')\\\n",
    "    .outputMode('complete').start()"
   ]
  }
 ],
 "metadata": {
  "kernelspec": {
   "display_name": "Python 3",
   "language": "python",
   "name": "python3"
  },
  "language_info": {
   "codemirror_mode": {
    "name": "ipython",
    "version": 3
   },
   "file_extension": ".py",
   "mimetype": "text/x-python",
   "name": "python",
   "nbconvert_exporter": "python",
   "pygments_lexer": "ipython3",
   "version": "3.6.5"
  }
 },
 "nbformat": 4,
 "nbformat_minor": 2
}
